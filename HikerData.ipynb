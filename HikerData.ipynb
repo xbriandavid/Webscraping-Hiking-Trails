{
 "cells": [
  {
   "cell_type": "markdown",
   "metadata": {},
   "source": [
    "# Using Selenium to web-scrape top trails"
   ]
  },
  {
   "cell_type": "markdown",
   "metadata": {},
   "source": [
    "These trails were scrapped from alltrails.com"
   ]
  },
  {
   "cell_type": "code",
   "execution_count": 1,
   "metadata": {},
   "outputs": [],
   "source": [
    "from selenium import webdriver\n",
    "from bs4 import BeautifulSoup\n",
    "import pandas as pd\n",
    "import requests\n",
    "import urllib.request\n",
    "import requests\n",
    "import re\n",
    "import glob\n",
    "import os"
   ]
  },
  {
   "cell_type": "code",
   "execution_count": 2,
   "metadata": {},
   "outputs": [],
   "source": [
    "option = webdriver.ChromeOptions()\n",
    "option.add_argument(\" — incognito\")"
   ]
  },
  {
   "cell_type": "code",
   "execution_count": 3,
   "metadata": {},
   "outputs": [],
   "source": [
    "browser = webdriver.Chrome(executable_path='/Users/briandavid/Downloads/chromedriver', options=option)"
   ]
  },
  {
   "cell_type": "markdown",
   "metadata": {},
   "source": [
    "Loop over each of the the top trails in San Jose"
   ]
  },
  {
   "cell_type": "code",
   "execution_count": 136,
   "metadata": {},
   "outputs": [],
   "source": [
    "browser.get(\"https://www.alltrails.com/us/california/san-jose\")"
   ]
  },
  {
   "cell_type": "code",
   "execution_count": 137,
   "metadata": {},
   "outputs": [],
   "source": [
    "link_span = browser.find_elements_by_xpath(\"//div[@class='styles-module__containerDescriptive___3aZqQ styles-module__trailCard___2oHiP']/a\")"
   ]
  },
  {
   "cell_type": "code",
   "execution_count": 138,
   "metadata": {},
   "outputs": [],
   "source": [
    "links = [link.get_attribute('href') for link in link_span]"
   ]
  },
  {
   "cell_type": "code",
   "execution_count": 4,
   "metadata": {},
   "outputs": [],
   "source": [
    "# Acquire Data Method\n",
    "def get_data(link):\n",
    "    # Go to page\n",
    "    browser.get(link)\n",
    "    completed = browser.find_element_by_class_name('MuiTabs-root.styles-module__slidingTabs___25XGa')\n",
    "    numComplete = re.findall('(\\d+)', completed.text)[3]\n",
    "    tag_span = browser.find_elements_by_xpath(\"//span[@class='tag']\")\n",
    "    tags = [x.text for x in tag_span]\n",
    "    tags = ','.join(list(map(lambda x: x.replace(' ', '-'), tags)))\n",
    "    detail_data = [data.text for data in browser.find_elements_by_xpath(\"//span[@class='detail-data xlate-none']\")]\n",
    "    length,elevation = [re.search('([\\d.]*)', word.replace(',','')).group(0) for word in detail_data]\n",
    "    trailname, = [name.text for name in browser.find_elements_by_xpath(\"//h1[@class='xlate-none styles-module__name___1nEtW']\")]\n",
    "    # Difficulty:\n",
    "    difficulty =  browser.find_elements_by_xpath(\"//div[@class='styles-module__info___1Mbn6 styles-module__thin___3YRdx']/span\")[0].text\n",
    "    keys = [\"name\", \"difficulty\", \"completion\", \"length\", \"elevation_gain\", \"tags\"]\n",
    "    values = [trailname, difficulty, numComplete, float(length), int(elevation), tags]\n",
    "    data = {k:v for (k,v) in zip(keys,values)}\n",
    "    return data"
   ]
  },
  {
   "cell_type": "code",
   "execution_count": 5,
   "metadata": {},
   "outputs": [],
   "source": [
    "def get_num_tags(tags):\n",
    "    return len(tags.split(','))"
   ]
  },
  {
   "cell_type": "code",
   "execution_count": 6,
   "metadata": {},
   "outputs": [],
   "source": [
    "from selenium.webdriver.common.action_chains import ActionChains"
   ]
  },
  {
   "cell_type": "markdown",
   "metadata": {},
   "source": [
    "### Create dataframe from trails - San Jose CA"
   ]
  },
  {
   "cell_type": "code",
   "execution_count": 14,
   "metadata": {},
   "outputs": [],
   "source": [
    "top_five_sj = list(map(lambda link: get_data(link), links[:5]))"
   ]
  },
  {
   "cell_type": "code",
   "execution_count": 7,
   "metadata": {},
   "outputs": [],
   "source": [
    "# Column names for the dataframe\n",
    "col_names = [\"name\", \"difficulty\", \"completion\", \"length\", \"elevation_gain\", \"tags\"]\n",
    "topfivesj = pd.DataFrame(top_five_sj, columns = col_names, index = list(range(5)))"
   ]
  },
  {
   "cell_type": "markdown",
   "metadata": {},
   "source": [
    "Count number of tags:"
   ]
  },
  {
   "cell_type": "code",
   "execution_count": 16,
   "metadata": {},
   "outputs": [],
   "source": [
    "topfivesj['NumberTags'] = topfivesj['tags'].apply(get_num_tags)"
   ]
  },
  {
   "cell_type": "markdown",
   "metadata": {},
   "source": [
    "Get coordinates:"
   ]
  },
  {
   "cell_type": "code",
   "execution_count": 13,
   "metadata": {},
   "outputs": [],
   "source": [
    "from selenium.webdriver.support.ui import WebDriverWait\n",
    "from selenium.webdriver.support import expected_conditions as EC\n",
    "from selenium.webdriver.common.by import By\n",
    "from selenium.common.exceptions import TimeoutException\n",
    "import time\n",
    "delay = 1000\n",
    "icon_src = \"https://cdn-assets.alltrails.com/maps/icon-map-marker-start-end@2x.png\"\n",
    "#alt_icon_src = \"https://cdn-assets.alltrails.com/assets/icons/maps/icon-map-marker-yellow@2x.png\"\n",
    "alt_icon_src = \"https://cdn-assets.alltrails.com/maps/icon-map-marker-start@2x.png\"\n",
    "ending_icon_src = \"https://cdn-assets.alltrails.com/maps/icon-map-marker-end@2x.png\""
   ]
  },
  {
   "cell_type": "code",
   "execution_count": 12,
   "metadata": {},
   "outputs": [],
   "source": [
    "def get_coords(link_list):\n",
    "    map_coordinates = []\n",
    "    for link in link_list:\n",
    "        browser.get(link)\n",
    "        browser.get(browser.find_elements_by_xpath(\"//div[@id='map']/div/a\")[0].get_attribute('href'))\n",
    "        time.sleep(5)\n",
    "        print(\"done sleeping\")\n",
    "        python_button = browser.find_elements_by_xpath(\"//div[@class='leaflet-marker-pane']/img\")\n",
    "        for images in python_button:\n",
    "            if (images.get_attribute('src') == icon_src):\n",
    "                hoveritem = ActionChains(browser).move_to_element(images)\n",
    "                hoveritem.perform()\n",
    "                coords = browser.find_elements_by_xpath(\"//div[@class='coordinates']\")[0].text\n",
    "                map_coordinates.append(coords)\n",
    "    return map_coordinates\n",
    "\n",
    "def get_coords_by_link(link, src):\n",
    "    browser.get(link)\n",
    "    browser.get(browser.find_elements_by_xpath(\"//div[@id='map']/div/a\")[0].get_attribute('href'))\n",
    "    time.sleep(5)\n",
    "    print(\"done sleeping\")\n",
    "    python_button = browser.find_elements_by_xpath(\"//div[@class='leaflet-marker-pane']/img\")\n",
    "    for images in python_button:\n",
    "        if (images.get_attribute('src') == src):\n",
    "            hoveritem = ActionChains(browser).move_to_element(images)\n",
    "            hoveritem.perform()\n",
    "            coords = browser.find_elements_by_xpath(\"//div[@class='coordinates']\")\n",
    "            return coords[0].text"
   ]
  },
  {
   "cell_type": "code",
   "execution_count": 132,
   "metadata": {},
   "outputs": [
    {
     "data": {
      "text/plain": [
       "['37.21448, -121.87888',\n",
       " '37.39709, -121.79972',\n",
       " '37.22608, -121.79894',\n",
       " '37.21396, -121.78591',\n",
       " '37.20396, -121.86324']"
      ]
     },
     "execution_count": 132,
     "metadata": {},
     "output_type": "execute_result"
    }
   ],
   "source": [
    "map_coordinates"
   ]
  },
  {
   "cell_type": "code",
   "execution_count": 134,
   "metadata": {},
   "outputs": [],
   "source": [
    "topfivesj['location'] = map_coordinates"
   ]
  },
  {
   "cell_type": "markdown",
   "metadata": {},
   "source": [
    "Final Dataframe:"
   ]
  },
  {
   "cell_type": "code",
   "execution_count": 135,
   "metadata": {},
   "outputs": [
    {
     "data": {
      "text/html": [
       "<div>\n",
       "<style scoped>\n",
       "    .dataframe tbody tr th:only-of-type {\n",
       "        vertical-align: middle;\n",
       "    }\n",
       "\n",
       "    .dataframe tbody tr th {\n",
       "        vertical-align: top;\n",
       "    }\n",
       "\n",
       "    .dataframe thead th {\n",
       "        text-align: right;\n",
       "    }\n",
       "</style>\n",
       "<table border=\"1\" class=\"dataframe\">\n",
       "  <thead>\n",
       "    <tr style=\"text-align: right;\">\n",
       "      <th></th>\n",
       "      <th>name</th>\n",
       "      <th>difficulty</th>\n",
       "      <th>completion</th>\n",
       "      <th>length</th>\n",
       "      <th>elevation_gain</th>\n",
       "      <th>tags</th>\n",
       "      <th>NumberTags</th>\n",
       "      <th>startingLoc</th>\n",
       "    </tr>\n",
       "  </thead>\n",
       "  <tbody>\n",
       "    <tr>\n",
       "      <th>0</th>\n",
       "      <td>Senador Mine to Mine Hill Loop</td>\n",
       "      <td>moderate</td>\n",
       "      <td>2877</td>\n",
       "      <td>5.3</td>\n",
       "      <td>757</td>\n",
       "      <td>Dogs-on-leash,Kid-friendly,Hiking,Nature-trips...</td>\n",
       "      <td>13</td>\n",
       "      <td>37.21448, -121.87888</td>\n",
       "    </tr>\n",
       "    <tr>\n",
       "      <th>1</th>\n",
       "      <td>Alum Rock South Rim Trail</td>\n",
       "      <td>easy</td>\n",
       "      <td>1241</td>\n",
       "      <td>4.3</td>\n",
       "      <td>770</td>\n",
       "      <td>Kid-friendly,Hiking,Mountain-biking,Nature-tri...</td>\n",
       "      <td>18</td>\n",
       "      <td>37.39709, -121.79972</td>\n",
       "    </tr>\n",
       "    <tr>\n",
       "      <th>2</th>\n",
       "      <td>Santa Teresa County Park Trail Loop</td>\n",
       "      <td>moderate</td>\n",
       "      <td>700</td>\n",
       "      <td>8.3</td>\n",
       "      <td>1768</td>\n",
       "      <td>Dogs-on-leash,Hiking,Horseback-riding,Mountain...</td>\n",
       "      <td>9</td>\n",
       "      <td>37.22608, -121.79894</td>\n",
       "    </tr>\n",
       "    <tr>\n",
       "      <th>3</th>\n",
       "      <td>Coyote Peak and Ridge Trail Loop</td>\n",
       "      <td>moderate</td>\n",
       "      <td>643</td>\n",
       "      <td>3.8</td>\n",
       "      <td>705</td>\n",
       "      <td>Dogs-on-leash,Kid-friendly,Hiking,Horseback-ri...</td>\n",
       "      <td>13</td>\n",
       "      <td>37.21396, -121.78591</td>\n",
       "    </tr>\n",
       "    <tr>\n",
       "      <th>4</th>\n",
       "      <td>Webb Canyon, New Almaden, Cinnabar, Mine Hill,...</td>\n",
       "      <td>moderate</td>\n",
       "      <td>433</td>\n",
       "      <td>5.4</td>\n",
       "      <td>833</td>\n",
       "      <td>Dogs-on-leash,Hiking,Running,Forest,Wildlife</td>\n",
       "      <td>5</td>\n",
       "      <td>37.20396, -121.86324</td>\n",
       "    </tr>\n",
       "  </tbody>\n",
       "</table>\n",
       "</div>"
      ],
      "text/plain": [
       "                                                name difficulty completion  \\\n",
       "0                     Senador Mine to Mine Hill Loop   moderate       2877   \n",
       "1                          Alum Rock South Rim Trail       easy       1241   \n",
       "2                Santa Teresa County Park Trail Loop   moderate        700   \n",
       "3                   Coyote Peak and Ridge Trail Loop   moderate        643   \n",
       "4  Webb Canyon, New Almaden, Cinnabar, Mine Hill,...   moderate        433   \n",
       "\n",
       "   length  elevation_gain                                               tags  \\\n",
       "0     5.3             757  Dogs-on-leash,Kid-friendly,Hiking,Nature-trips...   \n",
       "1     4.3             770  Kid-friendly,Hiking,Mountain-biking,Nature-tri...   \n",
       "2     8.3            1768  Dogs-on-leash,Hiking,Horseback-riding,Mountain...   \n",
       "3     3.8             705  Dogs-on-leash,Kid-friendly,Hiking,Horseback-ri...   \n",
       "4     5.4             833       Dogs-on-leash,Hiking,Running,Forest,Wildlife   \n",
       "\n",
       "   NumberTags           startingLoc  \n",
       "0          13  37.21448, -121.87888  \n",
       "1          18  37.39709, -121.79972  \n",
       "2           9  37.22608, -121.79894  \n",
       "3          13  37.21396, -121.78591  \n",
       "4           5  37.20396, -121.86324  "
      ]
     },
     "execution_count": 135,
     "metadata": {},
     "output_type": "execute_result"
    }
   ],
   "source": [
    "topfivesj"
   ]
  },
  {
   "cell_type": "markdown",
   "metadata": {},
   "source": [
    "Creting dataframe from bottom 5 trails"
   ]
  },
  {
   "cell_type": "code",
   "execution_count": 139,
   "metadata": {},
   "outputs": [],
   "source": [
    "bottom_five_sj = list(map(lambda link:get_data(link),links[63:]))"
   ]
  },
  {
   "cell_type": "code",
   "execution_count": 140,
   "metadata": {},
   "outputs": [],
   "source": [
    "bottomfivesj = pd.DataFrame(bottom_five_sj, columns = col_names, index = list(range(5)))"
   ]
  },
  {
   "cell_type": "code",
   "execution_count": 141,
   "metadata": {},
   "outputs": [],
   "source": [
    "bottomfivesj['NumberTags'] = bottomfivesj['tags'].apply(get_num_tags)\n",
    "bottomfivesj['city'] = \"San Jose\"\n",
    "bottomfivesj['rankCat'] = \"bottom\""
   ]
  },
  {
   "cell_type": "code",
   "execution_count": 146,
   "metadata": {},
   "outputs": [
    {
     "name": "stdout",
     "output_type": "stream",
     "text": [
      "done sleeping\n",
      "done sleeping\n",
      "done sleeping\n",
      "done sleeping\n",
      "done sleeping\n"
     ]
    }
   ],
   "source": [
    "# Get coordinates \n",
    "bottomfivesjCoords = get_coords(links[63:])"
   ]
  },
  {
   "cell_type": "markdown",
   "metadata": {},
   "source": [
    "Dataframe for bottom five"
   ]
  },
  {
   "cell_type": "code",
   "execution_count": 149,
   "metadata": {},
   "outputs": [
    {
     "data": {
      "text/html": [
       "<div>\n",
       "<style scoped>\n",
       "    .dataframe tbody tr th:only-of-type {\n",
       "        vertical-align: middle;\n",
       "    }\n",
       "\n",
       "    .dataframe tbody tr th {\n",
       "        vertical-align: top;\n",
       "    }\n",
       "\n",
       "    .dataframe thead th {\n",
       "        text-align: right;\n",
       "    }\n",
       "</style>\n",
       "<table border=\"1\" class=\"dataframe\">\n",
       "  <thead>\n",
       "    <tr style=\"text-align: right;\">\n",
       "      <th></th>\n",
       "      <th>name</th>\n",
       "      <th>difficulty</th>\n",
       "      <th>completion</th>\n",
       "      <th>length</th>\n",
       "      <th>elevation_gain</th>\n",
       "      <th>tags</th>\n",
       "      <th>NumberTags</th>\n",
       "      <th>city</th>\n",
       "      <th>rankCat</th>\n",
       "      <th>startingLoc</th>\n",
       "    </tr>\n",
       "  </thead>\n",
       "  <tbody>\n",
       "    <tr>\n",
       "      <th>0</th>\n",
       "      <td>Communications Hill Trail</td>\n",
       "      <td>easy</td>\n",
       "      <td>59</td>\n",
       "      <td>1.5</td>\n",
       "      <td>137</td>\n",
       "      <td>Kid-friendly,Walking,Running,Partially-paved,V...</td>\n",
       "      <td>5</td>\n",
       "      <td>San Jose</td>\n",
       "      <td>bottom</td>\n",
       "      <td>37.28315, -121.85627</td>\n",
       "    </tr>\n",
       "    <tr>\n",
       "      <th>1</th>\n",
       "      <td>Alum Rock Road, South Rim and Woodland Trail</td>\n",
       "      <td>moderate</td>\n",
       "      <td>152</td>\n",
       "      <td>4.3</td>\n",
       "      <td>761</td>\n",
       "      <td>Hiking,Nature-trips,Walking,Forest,Views,Wild-...</td>\n",
       "      <td>6</td>\n",
       "      <td>San Jose</td>\n",
       "      <td>bottom</td>\n",
       "      <td>37.39207, -121.81684</td>\n",
       "    </tr>\n",
       "    <tr>\n",
       "      <th>2</th>\n",
       "      <td>Santa Teresa Mine Loop</td>\n",
       "      <td>easy</td>\n",
       "      <td>157</td>\n",
       "      <td>1.9</td>\n",
       "      <td>200</td>\n",
       "      <td>Kid-friendly,Hiking,Walking,Running,Partially-...</td>\n",
       "      <td>10</td>\n",
       "      <td>San Jose</td>\n",
       "      <td>bottom</td>\n",
       "      <td>37.21228, -121.78919</td>\n",
       "    </tr>\n",
       "    <tr>\n",
       "      <th>3</th>\n",
       "      <td>Groesbeck Hills Park Loop</td>\n",
       "      <td>easy</td>\n",
       "      <td>19</td>\n",
       "      <td>0.9</td>\n",
       "      <td>150</td>\n",
       "      <td>Hiking,Nature-trips,Walking,Views,Wildlife</td>\n",
       "      <td>5</td>\n",
       "      <td>San Jose</td>\n",
       "      <td>bottom</td>\n",
       "      <td>37.33523, -121.77966</td>\n",
       "    </tr>\n",
       "    <tr>\n",
       "      <th>4</th>\n",
       "      <td>Penitencia Creek Trail</td>\n",
       "      <td>easy</td>\n",
       "      <td>27</td>\n",
       "      <td>5.8</td>\n",
       "      <td>167</td>\n",
       "      <td>Dog-friendly,Hiking,Road-biking,Running,Lake</td>\n",
       "      <td>5</td>\n",
       "      <td>San Jose</td>\n",
       "      <td>bottom</td>\n",
       "      <td>37.37673, -121.86115</td>\n",
       "    </tr>\n",
       "  </tbody>\n",
       "</table>\n",
       "</div>"
      ],
      "text/plain": [
       "                                           name difficulty completion  length  \\\n",
       "0                     Communications Hill Trail       easy         59     1.5   \n",
       "1  Alum Rock Road, South Rim and Woodland Trail   moderate        152     4.3   \n",
       "2                        Santa Teresa Mine Loop       easy        157     1.9   \n",
       "3                     Groesbeck Hills Park Loop       easy         19     0.9   \n",
       "4                        Penitencia Creek Trail       easy         27     5.8   \n",
       "\n",
       "   elevation_gain                                               tags  \\\n",
       "0             137  Kid-friendly,Walking,Running,Partially-paved,V...   \n",
       "1             761  Hiking,Nature-trips,Walking,Forest,Views,Wild-...   \n",
       "2             200  Kid-friendly,Hiking,Walking,Running,Partially-...   \n",
       "3             150         Hiking,Nature-trips,Walking,Views,Wildlife   \n",
       "4             167       Dog-friendly,Hiking,Road-biking,Running,Lake   \n",
       "\n",
       "   NumberTags      city rankCat           startingLoc  \n",
       "0           5  San Jose  bottom  37.28315, -121.85627  \n",
       "1           6  San Jose  bottom  37.39207, -121.81684  \n",
       "2          10  San Jose  bottom  37.21228, -121.78919  \n",
       "3           5  San Jose  bottom  37.33523, -121.77966  \n",
       "4           5  San Jose  bottom  37.37673, -121.86115  "
      ]
     },
     "execution_count": 149,
     "metadata": {},
     "output_type": "execute_result"
    }
   ],
   "source": [
    "bottomfivesj"
   ]
  },
  {
   "cell_type": "code",
   "execution_count": 229,
   "metadata": {},
   "outputs": [],
   "source": [
    "topfivesj.to_pickle('topfivesj.pkl')\n",
    "bottomfivesj.to_pickle('botfivesj.pkl')"
   ]
  },
  {
   "cell_type": "markdown",
   "metadata": {},
   "source": [
    "### Create dataframe from trails - San Francisco CA"
   ]
  },
  {
   "cell_type": "code",
   "execution_count": 111,
   "metadata": {},
   "outputs": [],
   "source": [
    "browser.get('https://www.alltrails.com/us/california/san-francisco')"
   ]
  },
  {
   "cell_type": "code",
   "execution_count": 112,
   "metadata": {},
   "outputs": [],
   "source": [
    "link_span = browser.find_elements_by_xpath(\"//div[@class='styles-module__containerDescriptive___3aZqQ styles-module__trailCard___2oHiP']/a\")\n",
    "sf_links = [link.get_attribute('href') for link in link_span]"
   ]
  },
  {
   "cell_type": "markdown",
   "metadata": {},
   "source": [
    "#### Get top 5 trails from SF"
   ]
  },
  {
   "cell_type": "code",
   "execution_count": 124,
   "metadata": {},
   "outputs": [],
   "source": [
    "top_five_sf = list(map(lambda link: get_data(link), sf_links[:5]))"
   ]
  },
  {
   "cell_type": "code",
   "execution_count": 127,
   "metadata": {},
   "outputs": [],
   "source": [
    "topfivesf = pd.DataFrame(top_five_sf, columns = col_names, index = list(range(5)))"
   ]
  },
  {
   "cell_type": "code",
   "execution_count": 128,
   "metadata": {},
   "outputs": [],
   "source": [
    "topfivesf['NumberTags'] = topfivesf['tags'].apply(get_num_tags)\n",
    "topfivesf['city'] = \"SF\"\n",
    "topfivesf['rankCat'] = \"top\""
   ]
  },
  {
   "cell_type": "code",
   "execution_count": 119,
   "metadata": {},
   "outputs": [
    {
     "name": "stdout",
     "output_type": "stream",
     "text": [
      "done sleeping\n",
      "done sleeping\n",
      "done sleeping\n",
      "done sleeping\n",
      "done sleeping\n"
     ]
    }
   ],
   "source": [
    "topfivesfCoords = get_coords(sf_links[:5])"
   ]
  },
  {
   "cell_type": "code",
   "execution_count": 203,
   "metadata": {},
   "outputs": [
    {
     "name": "stdout",
     "output_type": "stream",
     "text": [
      "done sleeping\n",
      "https://cdn-assets.alltrails.com/maps/icon-map-marker-end@2x.png\n",
      "37.80857, -122.4754\n"
     ]
    }
   ],
   "source": [
    "(get_coords_by_link(sf_links[4], ending_icon_src))"
   ]
  },
  {
   "cell_type": "code",
   "execution_count": 210,
   "metadata": {},
   "outputs": [
    {
     "data": {
      "text/plain": [
       "['37.78059, -122.51162',\n",
       " '37.80744, -122.47459',\n",
       " '37.76135, -122.45194',\n",
       " '37.80483, -122.47676']"
      ]
     },
     "execution_count": 210,
     "metadata": {},
     "output_type": "execute_result"
    }
   ],
   "source": [
    "topfivesfCoords"
   ]
  },
  {
   "cell_type": "code",
   "execution_count": 121,
   "metadata": {},
   "outputs": [
    {
     "name": "stdout",
     "output_type": "stream",
     "text": [
      "done sleeping\n"
     ]
    }
   ],
   "source": [
    "# must use the end-coordinates for the last trail\n",
    "topfivesfCoords.append(get_coords_by_link(sf_links[4], ending_icon_src))"
   ]
  },
  {
   "cell_type": "code",
   "execution_count": 129,
   "metadata": {},
   "outputs": [],
   "source": [
    "topfivesf['location'] = topfivesfCoords"
   ]
  },
  {
   "cell_type": "markdown",
   "metadata": {},
   "source": [
    "Dataframe for top five SF"
   ]
  },
  {
   "cell_type": "code",
   "execution_count": 130,
   "metadata": {},
   "outputs": [
    {
     "data": {
      "text/html": [
       "<div>\n",
       "<style scoped>\n",
       "    .dataframe tbody tr th:only-of-type {\n",
       "        vertical-align: middle;\n",
       "    }\n",
       "\n",
       "    .dataframe tbody tr th {\n",
       "        vertical-align: top;\n",
       "    }\n",
       "\n",
       "    .dataframe thead th {\n",
       "        text-align: right;\n",
       "    }\n",
       "</style>\n",
       "<table border=\"1\" class=\"dataframe\">\n",
       "  <thead>\n",
       "    <tr style=\"text-align: right;\">\n",
       "      <th></th>\n",
       "      <th>name</th>\n",
       "      <th>difficulty</th>\n",
       "      <th>completion</th>\n",
       "      <th>length</th>\n",
       "      <th>elevation_gain</th>\n",
       "      <th>tags</th>\n",
       "      <th>NumberTags</th>\n",
       "      <th>city</th>\n",
       "      <th>rankCat</th>\n",
       "      <th>location</th>\n",
       "    </tr>\n",
       "  </thead>\n",
       "  <tbody>\n",
       "    <tr>\n",
       "      <th>0</th>\n",
       "      <td>Lands End Trail</td>\n",
       "      <td>moderate</td>\n",
       "      <td>5837</td>\n",
       "      <td>3.4</td>\n",
       "      <td>538</td>\n",
       "      <td>Dogs-on-leash,Kid-friendly,Hiking,Nature-trips...</td>\n",
       "      <td>12</td>\n",
       "      <td>SF</td>\n",
       "      <td>top</td>\n",
       "      <td>37.78059, -122.51162</td>\n",
       "    </tr>\n",
       "    <tr>\n",
       "      <th>1</th>\n",
       "      <td>Walk Across the Golden Gate Bridge</td>\n",
       "      <td>easy</td>\n",
       "      <td>1611</td>\n",
       "      <td>3.7</td>\n",
       "      <td>193</td>\n",
       "      <td>Kid-friendly,Nature-trips,Road-biking,Walking,...</td>\n",
       "      <td>11</td>\n",
       "      <td>SF</td>\n",
       "      <td>top</td>\n",
       "      <td>37.80744, -122.47459</td>\n",
       "    </tr>\n",
       "    <tr>\n",
       "      <th>2</th>\n",
       "      <td>Mount Sutro Loop</td>\n",
       "      <td>moderate</td>\n",
       "      <td>1393</td>\n",
       "      <td>2.0</td>\n",
       "      <td>495</td>\n",
       "      <td>Dogs-on-leash,Kid-friendly,Mountain-biking,Nat...</td>\n",
       "      <td>10</td>\n",
       "      <td>SF</td>\n",
       "      <td>top</td>\n",
       "      <td>37.76135, -122.45194</td>\n",
       "    </tr>\n",
       "    <tr>\n",
       "      <th>3</th>\n",
       "      <td>Batteries to Bluffs Trail</td>\n",
       "      <td>easy</td>\n",
       "      <td>1084</td>\n",
       "      <td>2.2</td>\n",
       "      <td>449</td>\n",
       "      <td>Kid-friendly,Hiking,Nature-trips,Walking,Bird-...</td>\n",
       "      <td>12</td>\n",
       "      <td>SF</td>\n",
       "      <td>top</td>\n",
       "      <td>37.80483, -122.47676</td>\n",
       "    </tr>\n",
       "    <tr>\n",
       "      <th>4</th>\n",
       "      <td>California Coastal Trail: Lands End to Golden ...</td>\n",
       "      <td>moderate</td>\n",
       "      <td>1855</td>\n",
       "      <td>4.4</td>\n",
       "      <td>659</td>\n",
       "      <td>Dogs-on-leash,Kid-friendly,Hiking,Walking,Runn...</td>\n",
       "      <td>10</td>\n",
       "      <td>SF</td>\n",
       "      <td>top</td>\n",
       "      <td>37.80857, -122.4754</td>\n",
       "    </tr>\n",
       "  </tbody>\n",
       "</table>\n",
       "</div>"
      ],
      "text/plain": [
       "                                                name difficulty completion  \\\n",
       "0                                    Lands End Trail   moderate       5837   \n",
       "1                 Walk Across the Golden Gate Bridge       easy       1611   \n",
       "2                                   Mount Sutro Loop   moderate       1393   \n",
       "3                          Batteries to Bluffs Trail       easy       1084   \n",
       "4  California Coastal Trail: Lands End to Golden ...   moderate       1855   \n",
       "\n",
       "   length  elevation_gain                                               tags  \\\n",
       "0     3.4             538  Dogs-on-leash,Kid-friendly,Hiking,Nature-trips...   \n",
       "1     3.7             193  Kid-friendly,Nature-trips,Road-biking,Walking,...   \n",
       "2     2.0             495  Dogs-on-leash,Kid-friendly,Mountain-biking,Nat...   \n",
       "3     2.2             449  Kid-friendly,Hiking,Nature-trips,Walking,Bird-...   \n",
       "4     4.4             659  Dogs-on-leash,Kid-friendly,Hiking,Walking,Runn...   \n",
       "\n",
       "   NumberTags city rankCat              location  \n",
       "0          12   SF     top  37.78059, -122.51162  \n",
       "1          11   SF     top  37.80744, -122.47459  \n",
       "2          10   SF     top  37.76135, -122.45194  \n",
       "3          12   SF     top  37.80483, -122.47676  \n",
       "4          10   SF     top   37.80857, -122.4754  "
      ]
     },
     "execution_count": 130,
     "metadata": {},
     "output_type": "execute_result"
    }
   ],
   "source": [
    "topfivesf"
   ]
  },
  {
   "cell_type": "code",
   "execution_count": 131,
   "metadata": {},
   "outputs": [],
   "source": [
    "topfivesf.to_pickle('topfivesf.pkl')"
   ]
  },
  {
   "cell_type": "markdown",
   "metadata": {},
   "source": [
    "#### Get bottom five from SF"
   ]
  },
  {
   "cell_type": "code",
   "execution_count": 24,
   "metadata": {},
   "outputs": [],
   "source": [
    "bottom_five_sf = list(map(lambda link: get_data(link), sf_links[72:77]))"
   ]
  },
  {
   "cell_type": "code",
   "execution_count": 27,
   "metadata": {},
   "outputs": [],
   "source": [
    "bottomfivesf = pd.DataFrame(bottom_five_sf, columns = col_names, index = list(range(5)))"
   ]
  },
  {
   "cell_type": "code",
   "execution_count": 28,
   "metadata": {},
   "outputs": [],
   "source": [
    "bottomfivesf['NumberTags'] = bottomfivesf['tags'].apply(get_num_tags)\n",
    "bottomfivesf['city'] = \"SF\"\n",
    "bottomfivesf['rankCat'] = \"bottom\""
   ]
  },
  {
   "cell_type": "code",
   "execution_count": 13,
   "metadata": {},
   "outputs": [
    {
     "name": "stdout",
     "output_type": "stream",
     "text": [
      "done sleeping\n",
      "done sleeping\n",
      "done sleeping\n",
      "done sleeping\n",
      "done sleeping\n"
     ]
    }
   ],
   "source": [
    "bottomfivesfCoords = get_coords(sf_links[72:77])"
   ]
  },
  {
   "cell_type": "code",
   "execution_count": 18,
   "metadata": {},
   "outputs": [
    {
     "name": "stdout",
     "output_type": "stream",
     "text": [
      "done sleeping\n"
     ]
    }
   ],
   "source": [
    "# Candlestick Point trail \n",
    "bottomfivesfCoords.insert(3, get_coords_by_link(sf_links[75], ending_icon_src))"
   ]
  },
  {
   "cell_type": "code",
   "execution_count": 29,
   "metadata": {},
   "outputs": [],
   "source": [
    "bottomfivesf['location'] = bottomfivesfCoords"
   ]
  },
  {
   "cell_type": "markdown",
   "metadata": {},
   "source": [
    "Dataframe for bottm 5 SF"
   ]
  },
  {
   "cell_type": "code",
   "execution_count": 30,
   "metadata": {
    "scrolled": true
   },
   "outputs": [
    {
     "data": {
      "text/html": [
       "<div>\n",
       "<style scoped>\n",
       "    .dataframe tbody tr th:only-of-type {\n",
       "        vertical-align: middle;\n",
       "    }\n",
       "\n",
       "    .dataframe tbody tr th {\n",
       "        vertical-align: top;\n",
       "    }\n",
       "\n",
       "    .dataframe thead th {\n",
       "        text-align: right;\n",
       "    }\n",
       "</style>\n",
       "<table border=\"1\" class=\"dataframe\">\n",
       "  <thead>\n",
       "    <tr style=\"text-align: right;\">\n",
       "      <th></th>\n",
       "      <th>name</th>\n",
       "      <th>difficulty</th>\n",
       "      <th>completion</th>\n",
       "      <th>length</th>\n",
       "      <th>elevation_gain</th>\n",
       "      <th>tags</th>\n",
       "      <th>NumberTags</th>\n",
       "      <th>city</th>\n",
       "      <th>rankCat</th>\n",
       "      <th>location</th>\n",
       "    </tr>\n",
       "  </thead>\n",
       "  <tbody>\n",
       "    <tr>\n",
       "      <th>0</th>\n",
       "      <td>Pine Lake Loop Trail</td>\n",
       "      <td>easy</td>\n",
       "      <td>50</td>\n",
       "      <td>0.9</td>\n",
       "      <td>32</td>\n",
       "      <td>Hiking,Nature-trips,Walking,Bird-watching,Lake...</td>\n",
       "      <td>6</td>\n",
       "      <td>SF</td>\n",
       "      <td>bottom</td>\n",
       "      <td>37.73671, -122.48329</td>\n",
       "    </tr>\n",
       "    <tr>\n",
       "      <th>1</th>\n",
       "      <td>Potrero Hill, Dogpatch and Pier 50</td>\n",
       "      <td>moderate</td>\n",
       "      <td>26</td>\n",
       "      <td>5.1</td>\n",
       "      <td>370</td>\n",
       "      <td>Nature-trips,Walking,Bird-watching,Partially-p...</td>\n",
       "      <td>6</td>\n",
       "      <td>SF</td>\n",
       "      <td>bottom</td>\n",
       "      <td>37.75709, -122.40205</td>\n",
       "    </tr>\n",
       "    <tr>\n",
       "      <th>2</th>\n",
       "      <td>Golden Gate Park Polo Field Loop</td>\n",
       "      <td>easy</td>\n",
       "      <td>96</td>\n",
       "      <td>0.8</td>\n",
       "      <td>6</td>\n",
       "      <td>Dogs-on-leash,Wheelchair-friendly,Kid-friendly...</td>\n",
       "      <td>6</td>\n",
       "      <td>SF</td>\n",
       "      <td>bottom</td>\n",
       "      <td>37.7668, -122.49484</td>\n",
       "    </tr>\n",
       "    <tr>\n",
       "      <th>3</th>\n",
       "      <td>Candlestick Point State Recreation Area Loop</td>\n",
       "      <td>easy</td>\n",
       "      <td>18</td>\n",
       "      <td>0.7</td>\n",
       "      <td>16</td>\n",
       "      <td>Dogs-on-leash,Kid-friendly,Hiking,Nature-trips...</td>\n",
       "      <td>9</td>\n",
       "      <td>SF</td>\n",
       "      <td>bottom</td>\n",
       "      <td>37.71036, -122.38858</td>\n",
       "    </tr>\n",
       "    <tr>\n",
       "      <th>4</th>\n",
       "      <td>Edgehill Mountain Open Space Park Trail</td>\n",
       "      <td>easy</td>\n",
       "      <td>21</td>\n",
       "      <td>0.4</td>\n",
       "      <td>42</td>\n",
       "      <td>Dogs-on-leash,Kid-friendly,Walking,Running,Par...</td>\n",
       "      <td>5</td>\n",
       "      <td>SF</td>\n",
       "      <td>bottom</td>\n",
       "      <td>37.74216, -122.45699</td>\n",
       "    </tr>\n",
       "  </tbody>\n",
       "</table>\n",
       "</div>"
      ],
      "text/plain": [
       "                                           name difficulty completion  length  \\\n",
       "0                          Pine Lake Loop Trail       easy         50     0.9   \n",
       "1            Potrero Hill, Dogpatch and Pier 50   moderate         26     5.1   \n",
       "2              Golden Gate Park Polo Field Loop       easy         96     0.8   \n",
       "3  Candlestick Point State Recreation Area Loop       easy         18     0.7   \n",
       "4       Edgehill Mountain Open Space Park Trail       easy         21     0.4   \n",
       "\n",
       "   elevation_gain                                               tags  \\\n",
       "0              32  Hiking,Nature-trips,Walking,Bird-watching,Lake...   \n",
       "1             370  Nature-trips,Walking,Bird-watching,Partially-p...   \n",
       "2               6  Dogs-on-leash,Wheelchair-friendly,Kid-friendly...   \n",
       "3              16  Dogs-on-leash,Kid-friendly,Hiking,Nature-trips...   \n",
       "4              42  Dogs-on-leash,Kid-friendly,Walking,Running,Par...   \n",
       "\n",
       "   NumberTags city rankCat              location  \n",
       "0           6   SF  bottom  37.73671, -122.48329  \n",
       "1           6   SF  bottom  37.75709, -122.40205  \n",
       "2           6   SF  bottom   37.7668, -122.49484  \n",
       "3           9   SF  bottom  37.71036, -122.38858  \n",
       "4           5   SF  bottom  37.74216, -122.45699  "
      ]
     },
     "execution_count": 30,
     "metadata": {},
     "output_type": "execute_result"
    }
   ],
   "source": [
    "bottomfivesf"
   ]
  },
  {
   "cell_type": "code",
   "execution_count": 65,
   "metadata": {},
   "outputs": [],
   "source": [
    "bottomfivesf.to_pickle('botfivesf.pkl')"
   ]
  },
  {
   "cell_type": "markdown",
   "metadata": {},
   "source": [
    "### Create dataframe from Oakland CA"
   ]
  },
  {
   "cell_type": "code",
   "execution_count": 52,
   "metadata": {},
   "outputs": [],
   "source": [
    "browser.get('https://www.alltrails.com/us/california/oakland')"
   ]
  },
  {
   "cell_type": "code",
   "execution_count": 53,
   "metadata": {},
   "outputs": [],
   "source": [
    "link_span = browser.find_elements_by_xpath(\"//div[@class='styles-module__containerDescriptive___3aZqQ styles-module__trailCard___2oHiP']/a\")\n",
    "oak_links = [link.get_attribute('href') for link in link_span]"
   ]
  },
  {
   "cell_type": "markdown",
   "metadata": {},
   "source": [
    "#### Top five trails for Oakland"
   ]
  },
  {
   "cell_type": "code",
   "execution_count": 39,
   "metadata": {},
   "outputs": [],
   "source": [
    "top_five_oak = list(map(lambda link: get_data(link), oak_links[:5]))"
   ]
  },
  {
   "cell_type": "code",
   "execution_count": 41,
   "metadata": {},
   "outputs": [],
   "source": [
    "topfiveoak = pd.DataFrame(top_five_oak, columns = col_names, index = list(range(5)))"
   ]
  },
  {
   "cell_type": "code",
   "execution_count": 42,
   "metadata": {},
   "outputs": [],
   "source": [
    "topfiveoak['NumberTags'] = topfiveoak['tags'].apply(get_num_tags)\n",
    "topfiveoak['city'] = \"Oakland\"\n",
    "topfiveoak['rankCat'] = \"top\""
   ]
  },
  {
   "cell_type": "markdown",
   "metadata": {},
   "source": [
    "Get coordinates for trails"
   ]
  },
  {
   "cell_type": "code",
   "execution_count": 35,
   "metadata": {},
   "outputs": [
    {
     "name": "stdout",
     "output_type": "stream",
     "text": [
      "done sleeping\n",
      "done sleeping\n",
      "done sleeping\n",
      "done sleeping\n",
      "done sleeping\n"
     ]
    }
   ],
   "source": [
    "topfiveoakCoords = get_coords(oak_links[:5])"
   ]
  },
  {
   "cell_type": "code",
   "execution_count": 43,
   "metadata": {},
   "outputs": [],
   "source": [
    "topfiveoak['location'] = topfiveoakCoords"
   ]
  },
  {
   "cell_type": "code",
   "execution_count": 44,
   "metadata": {},
   "outputs": [
    {
     "data": {
      "text/html": [
       "<div>\n",
       "<style scoped>\n",
       "    .dataframe tbody tr th:only-of-type {\n",
       "        vertical-align: middle;\n",
       "    }\n",
       "\n",
       "    .dataframe tbody tr th {\n",
       "        vertical-align: top;\n",
       "    }\n",
       "\n",
       "    .dataframe thead th {\n",
       "        text-align: right;\n",
       "    }\n",
       "</style>\n",
       "<table border=\"1\" class=\"dataframe\">\n",
       "  <thead>\n",
       "    <tr style=\"text-align: right;\">\n",
       "      <th></th>\n",
       "      <th>name</th>\n",
       "      <th>difficulty</th>\n",
       "      <th>completion</th>\n",
       "      <th>length</th>\n",
       "      <th>elevation_gain</th>\n",
       "      <th>tags</th>\n",
       "      <th>NumberTags</th>\n",
       "      <th>city</th>\n",
       "      <th>rankCat</th>\n",
       "      <th>location</th>\n",
       "    </tr>\n",
       "  </thead>\n",
       "  <tbody>\n",
       "    <tr>\n",
       "      <th>0</th>\n",
       "      <td>French, Bridle and Stream Trail Loop</td>\n",
       "      <td>moderate</td>\n",
       "      <td>2918</td>\n",
       "      <td>9.1</td>\n",
       "      <td>1437</td>\n",
       "      <td>Dogs-on-leash,Hiking,Nature-trips,Walking,Bird...</td>\n",
       "      <td>11</td>\n",
       "      <td>Oakland</td>\n",
       "      <td>top</td>\n",
       "      <td>37.83183, -122.18553</td>\n",
       "    </tr>\n",
       "    <tr>\n",
       "      <th>1</th>\n",
       "      <td>Sunset, Sequoia Bayview, Cindarella, and Sinaw...</td>\n",
       "      <td>moderate</td>\n",
       "      <td>1795</td>\n",
       "      <td>3.2</td>\n",
       "      <td>570</td>\n",
       "      <td>Dogs-on-leash,Hiking,Mountain-biking,Nature-tr...</td>\n",
       "      <td>10</td>\n",
       "      <td>Oakland</td>\n",
       "      <td>top</td>\n",
       "      <td>37.81031, -122.18426</td>\n",
       "    </tr>\n",
       "    <tr>\n",
       "      <th>2</th>\n",
       "      <td>Stream, Mill and French Trail Loop</td>\n",
       "      <td>moderate</td>\n",
       "      <td>1662</td>\n",
       "      <td>4.2</td>\n",
       "      <td>941</td>\n",
       "      <td>Dog-friendly,Kid-friendly,Hiking,Nature-trips,...</td>\n",
       "      <td>9</td>\n",
       "      <td>Oakland</td>\n",
       "      <td>top</td>\n",
       "      <td>37.83152, -122.18526</td>\n",
       "    </tr>\n",
       "    <tr>\n",
       "      <th>3</th>\n",
       "      <td>Sequoia Bayview Trail</td>\n",
       "      <td>easy</td>\n",
       "      <td>1535</td>\n",
       "      <td>2.8</td>\n",
       "      <td>278</td>\n",
       "      <td>Dog-friendly,Kid-friendly,Hiking,Mountain-biki...</td>\n",
       "      <td>12</td>\n",
       "      <td>Oakland</td>\n",
       "      <td>top</td>\n",
       "      <td>37.80772, -122.17809</td>\n",
       "    </tr>\n",
       "    <tr>\n",
       "      <th>4</th>\n",
       "      <td>Huckleberry Nature Path Trail</td>\n",
       "      <td>easy</td>\n",
       "      <td>986</td>\n",
       "      <td>2.4</td>\n",
       "      <td>439</td>\n",
       "      <td>Kid-friendly,Hiking,Nature-trips,Bird-watching...</td>\n",
       "      <td>11</td>\n",
       "      <td>Oakland</td>\n",
       "      <td>top</td>\n",
       "      <td>37.84272, -122.19505</td>\n",
       "    </tr>\n",
       "  </tbody>\n",
       "</table>\n",
       "</div>"
      ],
      "text/plain": [
       "                                                name difficulty completion  \\\n",
       "0               French, Bridle and Stream Trail Loop   moderate       2918   \n",
       "1  Sunset, Sequoia Bayview, Cindarella, and Sinaw...   moderate       1795   \n",
       "2                 Stream, Mill and French Trail Loop   moderate       1662   \n",
       "3                              Sequoia Bayview Trail       easy       1535   \n",
       "4                      Huckleberry Nature Path Trail       easy        986   \n",
       "\n",
       "   length  elevation_gain                                               tags  \\\n",
       "0     9.1            1437  Dogs-on-leash,Hiking,Nature-trips,Walking,Bird...   \n",
       "1     3.2             570  Dogs-on-leash,Hiking,Mountain-biking,Nature-tr...   \n",
       "2     4.2             941  Dog-friendly,Kid-friendly,Hiking,Nature-trips,...   \n",
       "3     2.8             278  Dog-friendly,Kid-friendly,Hiking,Mountain-biki...   \n",
       "4     2.4             439  Kid-friendly,Hiking,Nature-trips,Bird-watching...   \n",
       "\n",
       "   NumberTags     city rankCat              location  \n",
       "0          11  Oakland     top  37.83183, -122.18553  \n",
       "1          10  Oakland     top  37.81031, -122.18426  \n",
       "2           9  Oakland     top  37.83152, -122.18526  \n",
       "3          12  Oakland     top  37.80772, -122.17809  \n",
       "4          11  Oakland     top  37.84272, -122.19505  "
      ]
     },
     "execution_count": 44,
     "metadata": {},
     "output_type": "execute_result"
    }
   ],
   "source": [
    "topfiveoak"
   ]
  },
  {
   "cell_type": "markdown",
   "metadata": {},
   "source": [
    "#### Bottom five Oakland"
   ]
  },
  {
   "cell_type": "code",
   "execution_count": 54,
   "metadata": {},
   "outputs": [],
   "source": [
    "bottom_five_oak = list(map(lambda link: get_data(link), oak_links[115:120]))"
   ]
  },
  {
   "cell_type": "code",
   "execution_count": 56,
   "metadata": {},
   "outputs": [],
   "source": [
    "bottomfiveoak = pd.DataFrame(bottom_five_oak, columns = col_names, index = list(range(5)))"
   ]
  },
  {
   "cell_type": "code",
   "execution_count": 57,
   "metadata": {},
   "outputs": [],
   "source": [
    "bottomfiveoak['NumberTags'] = bottomfiveoak['tags'].apply(get_num_tags)\n",
    "bottomfiveoak['city'] = \"Oakland\"\n",
    "bottomfiveoak['rankCat'] = \"bottom\""
   ]
  },
  {
   "cell_type": "code",
   "execution_count": 47,
   "metadata": {},
   "outputs": [
    {
     "name": "stdout",
     "output_type": "stream",
     "text": [
      "done sleeping\n",
      "done sleeping\n",
      "done sleeping\n",
      "done sleeping\n",
      "done sleeping\n"
     ]
    }
   ],
   "source": [
    "bottomfiveoakCoords = get_coords(oak_links[115:120])"
   ]
  },
  {
   "cell_type": "code",
   "execution_count": 60,
   "metadata": {},
   "outputs": [
    {
     "name": "stdout",
     "output_type": "stream",
     "text": [
      "done sleeping\n"
     ]
    }
   ],
   "source": [
    "# Use single link for Dunn,West Ridge Trail\n",
    "bottomfiveoakCoords.insert(1, get_coords_by_link(oak_links[116], icon_src))"
   ]
  },
  {
   "cell_type": "code",
   "execution_count": 61,
   "metadata": {},
   "outputs": [
    {
     "data": {
      "text/plain": [
       "['37.81015, -122.19879',\n",
       " '37.80303, -122.17765',\n",
       " '37.73913, -122.09782',\n",
       " '37.74074, -122.09412',\n",
       " '37.84031, -122.18105']"
      ]
     },
     "execution_count": 61,
     "metadata": {},
     "output_type": "execute_result"
    }
   ],
   "source": [
    "bottomfiveoakCoords"
   ]
  },
  {
   "cell_type": "code",
   "execution_count": 62,
   "metadata": {},
   "outputs": [],
   "source": [
    "bottomfiveoak['location'] = bottomfiveoakCoords"
   ]
  },
  {
   "cell_type": "code",
   "execution_count": 63,
   "metadata": {},
   "outputs": [
    {
     "data": {
      "text/html": [
       "<div>\n",
       "<style scoped>\n",
       "    .dataframe tbody tr th:only-of-type {\n",
       "        vertical-align: middle;\n",
       "    }\n",
       "\n",
       "    .dataframe tbody tr th {\n",
       "        vertical-align: top;\n",
       "    }\n",
       "\n",
       "    .dataframe thead th {\n",
       "        text-align: right;\n",
       "    }\n",
       "</style>\n",
       "<table border=\"1\" class=\"dataframe\">\n",
       "  <thead>\n",
       "    <tr style=\"text-align: right;\">\n",
       "      <th></th>\n",
       "      <th>name</th>\n",
       "      <th>difficulty</th>\n",
       "      <th>completion</th>\n",
       "      <th>length</th>\n",
       "      <th>elevation_gain</th>\n",
       "      <th>tags</th>\n",
       "      <th>NumberTags</th>\n",
       "      <th>city</th>\n",
       "      <th>rankCat</th>\n",
       "      <th>location</th>\n",
       "    </tr>\n",
       "  </thead>\n",
       "  <tbody>\n",
       "    <tr>\n",
       "      <th>0</th>\n",
       "      <td>Anthony Chabot Regional Park Cycle Loop</td>\n",
       "      <td>moderate</td>\n",
       "      <td>11</td>\n",
       "      <td>28.3</td>\n",
       "      <td>2936</td>\n",
       "      <td>Road-biking,Forest,Lake,Paved,Views,Wild-flowe...</td>\n",
       "      <td>7</td>\n",
       "      <td>Oakland</td>\n",
       "      <td>bottom</td>\n",
       "      <td>37.81015, -122.19879</td>\n",
       "    </tr>\n",
       "    <tr>\n",
       "      <th>1</th>\n",
       "      <td>Dunn, West Ridge, Redwood Peak, French, West R...</td>\n",
       "      <td>moderate</td>\n",
       "      <td>153</td>\n",
       "      <td>10.8</td>\n",
       "      <td>2073</td>\n",
       "      <td>Hiking,Nature-trips,Walking,Running,Forest,Wil...</td>\n",
       "      <td>7</td>\n",
       "      <td>Oakland</td>\n",
       "      <td>bottom</td>\n",
       "      <td>37.80303, -122.17765</td>\n",
       "    </tr>\n",
       "    <tr>\n",
       "      <th>2</th>\n",
       "      <td>Lost Ridge to Quail Trail</td>\n",
       "      <td>easy</td>\n",
       "      <td>9</td>\n",
       "      <td>2.8</td>\n",
       "      <td>449</td>\n",
       "      <td>Dog-friendly,Hiking,Nature-trips,Lake,Views,Wi...</td>\n",
       "      <td>6</td>\n",
       "      <td>Oakland</td>\n",
       "      <td>bottom</td>\n",
       "      <td>37.73913, -122.09782</td>\n",
       "    </tr>\n",
       "    <tr>\n",
       "      <th>3</th>\n",
       "      <td>Towhee, Columbine, and Quail Trail Loop</td>\n",
       "      <td>easy</td>\n",
       "      <td>17</td>\n",
       "      <td>4.7</td>\n",
       "      <td>718</td>\n",
       "      <td>Hiking,Running,Forest,Views,Wildlife</td>\n",
       "      <td>5</td>\n",
       "      <td>Oakland</td>\n",
       "      <td>bottom</td>\n",
       "      <td>37.74074, -122.09412</td>\n",
       "    </tr>\n",
       "    <tr>\n",
       "      <th>4</th>\n",
       "      <td>McCosker Loop [CLOSED]</td>\n",
       "      <td>moderate</td>\n",
       "      <td>80</td>\n",
       "      <td>2.5</td>\n",
       "      <td>538</td>\n",
       "      <td>Dogs-on-leash,Kid-friendly,Hiking,Nature-trips...</td>\n",
       "      <td>12</td>\n",
       "      <td>Oakland</td>\n",
       "      <td>bottom</td>\n",
       "      <td>37.84031, -122.18105</td>\n",
       "    </tr>\n",
       "  </tbody>\n",
       "</table>\n",
       "</div>"
      ],
      "text/plain": [
       "                                                name difficulty completion  \\\n",
       "0            Anthony Chabot Regional Park Cycle Loop   moderate         11   \n",
       "1  Dunn, West Ridge, Redwood Peak, French, West R...   moderate        153   \n",
       "2                          Lost Ridge to Quail Trail       easy          9   \n",
       "3            Towhee, Columbine, and Quail Trail Loop       easy         17   \n",
       "4                             McCosker Loop [CLOSED]   moderate         80   \n",
       "\n",
       "   length  elevation_gain                                               tags  \\\n",
       "0    28.3            2936  Road-biking,Forest,Lake,Paved,Views,Wild-flowe...   \n",
       "1    10.8            2073  Hiking,Nature-trips,Walking,Running,Forest,Wil...   \n",
       "2     2.8             449  Dog-friendly,Hiking,Nature-trips,Lake,Views,Wi...   \n",
       "3     4.7             718               Hiking,Running,Forest,Views,Wildlife   \n",
       "4     2.5             538  Dogs-on-leash,Kid-friendly,Hiking,Nature-trips...   \n",
       "\n",
       "   NumberTags     city rankCat              location  \n",
       "0           7  Oakland  bottom  37.81015, -122.19879  \n",
       "1           7  Oakland  bottom  37.80303, -122.17765  \n",
       "2           6  Oakland  bottom  37.73913, -122.09782  \n",
       "3           5  Oakland  bottom  37.74074, -122.09412  \n",
       "4          12  Oakland  bottom  37.84031, -122.18105  "
      ]
     },
     "execution_count": 63,
     "metadata": {},
     "output_type": "execute_result"
    }
   ],
   "source": [
    "bottomfiveoak"
   ]
  },
  {
   "cell_type": "code",
   "execution_count": 64,
   "metadata": {},
   "outputs": [],
   "source": [
    "topfiveoak.to_pickle('topfiveoak.pkl')\n",
    "bottomfiveoak.to_pickle('botfiveoak.pkl')"
   ]
  },
  {
   "cell_type": "markdown",
   "metadata": {},
   "source": [
    "### Create dataframe from Mill Valley CA"
   ]
  },
  {
   "cell_type": "code",
   "execution_count": 85,
   "metadata": {},
   "outputs": [],
   "source": [
    "browser.get('https://www.alltrails.com/us/california/mill-valley')"
   ]
  },
  {
   "cell_type": "code",
   "execution_count": 86,
   "metadata": {},
   "outputs": [],
   "source": [
    "link_span = browser.find_elements_by_xpath(\"//div[@class='styles-module__containerDescriptive___3aZqQ styles-module__trailCard___2oHiP']/a\")\n",
    "millvalley_links = [link.get_attribute('href') for link in link_span]"
   ]
  },
  {
   "cell_type": "markdown",
   "metadata": {},
   "source": [
    "#### Top five Mill Valley"
   ]
  },
  {
   "cell_type": "code",
   "execution_count": 76,
   "metadata": {},
   "outputs": [],
   "source": [
    "top_five_mill = list(map(lambda link: get_data(link), millvalley_links[:5]))"
   ]
  },
  {
   "cell_type": "code",
   "execution_count": 81,
   "metadata": {},
   "outputs": [],
   "source": [
    "topfivemill = pd.DataFrame(top_five_mill, columns = col_names, index = list(range(5)))"
   ]
  },
  {
   "cell_type": "code",
   "execution_count": 82,
   "metadata": {},
   "outputs": [],
   "source": [
    "topfivemill['NumberTags'] = topfivemill['tags'].apply(get_num_tags)\n",
    "topfivemill['city'] = \"Mill Valley\"\n",
    "topfivemill['rankCat'] = \"top\""
   ]
  },
  {
   "cell_type": "markdown",
   "metadata": {},
   "source": [
    "Get coords for top five "
   ]
  },
  {
   "cell_type": "code",
   "execution_count": 69,
   "metadata": {},
   "outputs": [
    {
     "name": "stdout",
     "output_type": "stream",
     "text": [
      "done sleeping\n",
      "done sleeping\n",
      "done sleeping\n"
     ]
    }
   ],
   "source": [
    "top5millCoords = get_coords(millvalley_links[:3])"
   ]
  },
  {
   "cell_type": "code",
   "execution_count": 73,
   "metadata": {},
   "outputs": [
    {
     "name": "stdout",
     "output_type": "stream",
     "text": [
      "done sleeping\n"
     ]
    }
   ],
   "source": [
    "# idiv\n",
    "# zoomed prior\n",
    "icon_to_hover = browser.find_elements_by_xpath(\"//*[@id='map']/div[1]/div[2]/div[3]/img[19]\")\n",
    "hoveritem = ActionChains(browser).move_to_element(icon_to_hover[0])\n",
    "hoveritem.perform()\n",
    "top5millCoords.append(browser.find_elements_by_xpath(\"//div[@class='coordinates']\")[0].text)\n",
    "top5millCoords.append(get_coords_by_link(millvalley_links[4], icon_src))"
   ]
  },
  {
   "cell_type": "code",
   "execution_count": 83,
   "metadata": {},
   "outputs": [],
   "source": [
    "topfivemill['location'] = top5millCoords"
   ]
  },
  {
   "cell_type": "markdown",
   "metadata": {},
   "source": [
    "Dataframe for top five Mill Valley"
   ]
  },
  {
   "cell_type": "code",
   "execution_count": 84,
   "metadata": {},
   "outputs": [
    {
     "data": {
      "text/html": [
       "<div>\n",
       "<style scoped>\n",
       "    .dataframe tbody tr th:only-of-type {\n",
       "        vertical-align: middle;\n",
       "    }\n",
       "\n",
       "    .dataframe tbody tr th {\n",
       "        vertical-align: top;\n",
       "    }\n",
       "\n",
       "    .dataframe thead th {\n",
       "        text-align: right;\n",
       "    }\n",
       "</style>\n",
       "<table border=\"1\" class=\"dataframe\">\n",
       "  <thead>\n",
       "    <tr style=\"text-align: right;\">\n",
       "      <th></th>\n",
       "      <th>name</th>\n",
       "      <th>difficulty</th>\n",
       "      <th>completion</th>\n",
       "      <th>length</th>\n",
       "      <th>elevation_gain</th>\n",
       "      <th>tags</th>\n",
       "      <th>NumberTags</th>\n",
       "      <th>city</th>\n",
       "      <th>rankCat</th>\n",
       "      <th>location</th>\n",
       "    </tr>\n",
       "  </thead>\n",
       "  <tbody>\n",
       "    <tr>\n",
       "      <th>0</th>\n",
       "      <td>Muir Woods Trail</td>\n",
       "      <td>easy</td>\n",
       "      <td>4208</td>\n",
       "      <td>1.3</td>\n",
       "      <td>42</td>\n",
       "      <td>Wheelchair-friendly,Kid-friendly,Stroller-frie...</td>\n",
       "      <td>14</td>\n",
       "      <td>Mill Valley</td>\n",
       "      <td>top</td>\n",
       "      <td>37.89134, -122.56938</td>\n",
       "    </tr>\n",
       "    <tr>\n",
       "      <th>1</th>\n",
       "      <td>Dipsea Trail</td>\n",
       "      <td>hard</td>\n",
       "      <td>1650</td>\n",
       "      <td>9.7</td>\n",
       "      <td>2545</td>\n",
       "      <td>Hiking,Nature-trips,Bird-watching,Running,Beac...</td>\n",
       "      <td>11</td>\n",
       "      <td>Mill Valley</td>\n",
       "      <td>top</td>\n",
       "      <td>37.89153, -122.56926</td>\n",
       "    </tr>\n",
       "    <tr>\n",
       "      <th>2</th>\n",
       "      <td>Cataract Falls and Potrero Meadows Loop (Catar...</td>\n",
       "      <td>moderate</td>\n",
       "      <td>1130</td>\n",
       "      <td>8.4</td>\n",
       "      <td>1837</td>\n",
       "      <td>Dogs-on-leash,Hiking,Nature-trips,Walking,Bird...</td>\n",
       "      <td>14</td>\n",
       "      <td>Mill Valley</td>\n",
       "      <td>top</td>\n",
       "      <td>37.91085, -122.61282</td>\n",
       "    </tr>\n",
       "    <tr>\n",
       "      <th>3</th>\n",
       "      <td>Dipsea Trail to Steep Ravine Trail Loop from P...</td>\n",
       "      <td>moderate</td>\n",
       "      <td>1374</td>\n",
       "      <td>3.6</td>\n",
       "      <td>948</td>\n",
       "      <td>Kid-friendly,Hiking,Nature-trips,Walking,Bird-...</td>\n",
       "      <td>11</td>\n",
       "      <td>Mill Valley</td>\n",
       "      <td>top</td>\n",
       "      <td>37.90346, -122.60402</td>\n",
       "    </tr>\n",
       "    <tr>\n",
       "      <th>4</th>\n",
       "      <td>Pirate's Cove</td>\n",
       "      <td>moderate</td>\n",
       "      <td>1306</td>\n",
       "      <td>3.6</td>\n",
       "      <td>820</td>\n",
       "      <td>Dogs-on-leash,Hiking,Nature-trips,Walking,Bird...</td>\n",
       "      <td>11</td>\n",
       "      <td>Mill Valley</td>\n",
       "      <td>top</td>\n",
       "      <td>37.8614, -122.57545</td>\n",
       "    </tr>\n",
       "  </tbody>\n",
       "</table>\n",
       "</div>"
      ],
      "text/plain": [
       "                                                name difficulty completion  \\\n",
       "0                                   Muir Woods Trail       easy       4208   \n",
       "1                                       Dipsea Trail       hard       1650   \n",
       "2  Cataract Falls and Potrero Meadows Loop (Catar...   moderate       1130   \n",
       "3  Dipsea Trail to Steep Ravine Trail Loop from P...   moderate       1374   \n",
       "4                                      Pirate's Cove   moderate       1306   \n",
       "\n",
       "   length  elevation_gain                                               tags  \\\n",
       "0     1.3              42  Wheelchair-friendly,Kid-friendly,Stroller-frie...   \n",
       "1     9.7            2545  Hiking,Nature-trips,Bird-watching,Running,Beac...   \n",
       "2     8.4            1837  Dogs-on-leash,Hiking,Nature-trips,Walking,Bird...   \n",
       "3     3.6             948  Kid-friendly,Hiking,Nature-trips,Walking,Bird-...   \n",
       "4     3.6             820  Dogs-on-leash,Hiking,Nature-trips,Walking,Bird...   \n",
       "\n",
       "   NumberTags         city rankCat              location  \n",
       "0          14  Mill Valley     top  37.89134, -122.56938  \n",
       "1          11  Mill Valley     top  37.89153, -122.56926  \n",
       "2          14  Mill Valley     top  37.91085, -122.61282  \n",
       "3          11  Mill Valley     top  37.90346, -122.60402  \n",
       "4          11  Mill Valley     top   37.8614, -122.57545  "
      ]
     },
     "execution_count": 84,
     "metadata": {},
     "output_type": "execute_result"
    }
   ],
   "source": [
    "topfivemill"
   ]
  },
  {
   "cell_type": "code",
   "execution_count": 88,
   "metadata": {},
   "outputs": [],
   "source": [
    "bottom_five_mill = list(map(lambda link: get_data(link), millvalley_links[105:]))"
   ]
  },
  {
   "cell_type": "code",
   "execution_count": 89,
   "metadata": {},
   "outputs": [],
   "source": [
    "bottomfivemill = pd.DataFrame(bottom_five_mill, columns = col_names, index = list(range(5)))"
   ]
  },
  {
   "cell_type": "code",
   "execution_count": 90,
   "metadata": {},
   "outputs": [],
   "source": [
    "bottomfivemill['NumberTags'] = bottomfivemill['tags'].apply(get_num_tags)\n",
    "bottomfivemill['city'] = \"Mill Valley\"\n",
    "bottomfivemill['rankCat'] = \"bottom\""
   ]
  },
  {
   "cell_type": "code",
   "execution_count": 87,
   "metadata": {},
   "outputs": [
    {
     "name": "stdout",
     "output_type": "stream",
     "text": [
      "done sleeping\n",
      "done sleeping\n",
      "done sleeping\n",
      "done sleeping\n",
      "done sleeping\n"
     ]
    }
   ],
   "source": [
    "bot5millCoords = get_coords(millvalley_links[105:])"
   ]
  },
  {
   "cell_type": "code",
   "execution_count": 91,
   "metadata": {},
   "outputs": [],
   "source": [
    "bottomfivemill['location'] = bot5millCoords"
   ]
  },
  {
   "cell_type": "code",
   "execution_count": 92,
   "metadata": {},
   "outputs": [
    {
     "data": {
      "text/html": [
       "<div>\n",
       "<style scoped>\n",
       "    .dataframe tbody tr th:only-of-type {\n",
       "        vertical-align: middle;\n",
       "    }\n",
       "\n",
       "    .dataframe tbody tr th {\n",
       "        vertical-align: top;\n",
       "    }\n",
       "\n",
       "    .dataframe thead th {\n",
       "        text-align: right;\n",
       "    }\n",
       "</style>\n",
       "<table border=\"1\" class=\"dataframe\">\n",
       "  <thead>\n",
       "    <tr style=\"text-align: right;\">\n",
       "      <th></th>\n",
       "      <th>name</th>\n",
       "      <th>difficulty</th>\n",
       "      <th>completion</th>\n",
       "      <th>length</th>\n",
       "      <th>elevation_gain</th>\n",
       "      <th>tags</th>\n",
       "      <th>NumberTags</th>\n",
       "      <th>city</th>\n",
       "      <th>rankCat</th>\n",
       "      <th>location</th>\n",
       "    </tr>\n",
       "  </thead>\n",
       "  <tbody>\n",
       "    <tr>\n",
       "      <th>0</th>\n",
       "      <td>Pantoll to Mount Theater to O'Rourke's to Matt...</td>\n",
       "      <td>moderate</td>\n",
       "      <td>41</td>\n",
       "      <td>3.4</td>\n",
       "      <td>643</td>\n",
       "      <td>Hiking,Nature-trips,Bird-watching,Running,Fore...</td>\n",
       "      <td>7</td>\n",
       "      <td>Mill Valley</td>\n",
       "      <td>bottom</td>\n",
       "      <td>37.90381, -122.60434</td>\n",
       "    </tr>\n",
       "    <tr>\n",
       "      <th>1</th>\n",
       "      <td>Muir Woods Cycle Loop</td>\n",
       "      <td>easy</td>\n",
       "      <td>9</td>\n",
       "      <td>12.8</td>\n",
       "      <td>1496</td>\n",
       "      <td>Road-biking,Forest,Paved,Views,Wild-flowers,Wi...</td>\n",
       "      <td>6</td>\n",
       "      <td>Mill Valley</td>\n",
       "      <td>bottom</td>\n",
       "      <td>37.90642, -122.54795</td>\n",
       "    </tr>\n",
       "    <tr>\n",
       "      <th>2</th>\n",
       "      <td>Mill Valley to East Peak via Dipsea Steps</td>\n",
       "      <td>hard</td>\n",
       "      <td>56</td>\n",
       "      <td>10.2</td>\n",
       "      <td>2847</td>\n",
       "      <td>Hiking,Nature-trips,Forest,Views,Wild-flowers</td>\n",
       "      <td>5</td>\n",
       "      <td>Mill Valley</td>\n",
       "      <td>bottom</td>\n",
       "      <td>37.90566, -122.5538</td>\n",
       "    </tr>\n",
       "    <tr>\n",
       "      <th>3</th>\n",
       "      <td>Stinson Beach Cycle Loop</td>\n",
       "      <td>moderate</td>\n",
       "      <td>4</td>\n",
       "      <td>23.0</td>\n",
       "      <td>3051</td>\n",
       "      <td>Road-biking,Beach,Forest,Paved,Views,Wild-flow...</td>\n",
       "      <td>7</td>\n",
       "      <td>Mill Valley</td>\n",
       "      <td>bottom</td>\n",
       "      <td>37.90653, -122.548</td>\n",
       "    </tr>\n",
       "    <tr>\n",
       "      <th>4</th>\n",
       "      <td>Gravity Car Road, Northside, Benstein and Matt...</td>\n",
       "      <td>hard</td>\n",
       "      <td>17</td>\n",
       "      <td>10.6</td>\n",
       "      <td>1666</td>\n",
       "      <td>Hiking,Running,Forest,Views,Wildlife</td>\n",
       "      <td>5</td>\n",
       "      <td>Mill Valley</td>\n",
       "      <td>bottom</td>\n",
       "      <td>37.911, -122.57734</td>\n",
       "    </tr>\n",
       "  </tbody>\n",
       "</table>\n",
       "</div>"
      ],
      "text/plain": [
       "                                                name difficulty completion  \\\n",
       "0  Pantoll to Mount Theater to O'Rourke's to Matt...   moderate         41   \n",
       "1                              Muir Woods Cycle Loop       easy          9   \n",
       "2          Mill Valley to East Peak via Dipsea Steps       hard         56   \n",
       "3                           Stinson Beach Cycle Loop   moderate          4   \n",
       "4  Gravity Car Road, Northside, Benstein and Matt...       hard         17   \n",
       "\n",
       "   length  elevation_gain                                               tags  \\\n",
       "0     3.4             643  Hiking,Nature-trips,Bird-watching,Running,Fore...   \n",
       "1    12.8            1496  Road-biking,Forest,Paved,Views,Wild-flowers,Wi...   \n",
       "2    10.2            2847      Hiking,Nature-trips,Forest,Views,Wild-flowers   \n",
       "3    23.0            3051  Road-biking,Beach,Forest,Paved,Views,Wild-flow...   \n",
       "4    10.6            1666               Hiking,Running,Forest,Views,Wildlife   \n",
       "\n",
       "   NumberTags         city rankCat              location  \n",
       "0           7  Mill Valley  bottom  37.90381, -122.60434  \n",
       "1           6  Mill Valley  bottom  37.90642, -122.54795  \n",
       "2           5  Mill Valley  bottom   37.90566, -122.5538  \n",
       "3           7  Mill Valley  bottom    37.90653, -122.548  \n",
       "4           5  Mill Valley  bottom    37.911, -122.57734  "
      ]
     },
     "execution_count": 92,
     "metadata": {},
     "output_type": "execute_result"
    }
   ],
   "source": [
    "bottomfivemill"
   ]
  },
  {
   "cell_type": "code",
   "execution_count": 93,
   "metadata": {},
   "outputs": [],
   "source": [
    "topfivemill.to_pickle('topfivemill.pkl')\n",
    "bottomfivemill.to_pickle('botfivemill.pkl')"
   ]
  },
  {
   "cell_type": "markdown",
   "metadata": {},
   "source": [
    "### Create dataframe from Redwood City CA"
   ]
  },
  {
   "cell_type": "code",
   "execution_count": 102,
   "metadata": {},
   "outputs": [],
   "source": [
    "browser.get('https://www.alltrails.com/us/california/redwood-city')"
   ]
  },
  {
   "cell_type": "code",
   "execution_count": 103,
   "metadata": {},
   "outputs": [],
   "source": [
    "link_span = browser.find_elements_by_xpath(\"//div[@class='styles-module__containerDescriptive___3aZqQ styles-module__trailCard___2oHiP']/a\")\n",
    "rwcity_links = [link.get_attribute('href') for link in link_span]"
   ]
  },
  {
   "cell_type": "markdown",
   "metadata": {},
   "source": [
    "top five in Redwood City"
   ]
  },
  {
   "cell_type": "code",
   "execution_count": 98,
   "metadata": {},
   "outputs": [],
   "source": [
    "top_five_rwc = list(map(lambda link: get_data(link), rwcity_links[:5]))\n",
    "topfiverwc = pd.DataFrame(top_five_rwc, columns = col_names, index = list(range(5)))"
   ]
  },
  {
   "cell_type": "code",
   "execution_count": 99,
   "metadata": {},
   "outputs": [],
   "source": [
    "topfiverwc['NumberTags'] = topfiverwc['tags'].apply(get_num_tags)\n",
    "topfiverwc['city'] = \"Redwood City\"\n",
    "topfiverwc['rankCat'] = \"top\""
   ]
  },
  {
   "cell_type": "code",
   "execution_count": 96,
   "metadata": {},
   "outputs": [
    {
     "name": "stdout",
     "output_type": "stream",
     "text": [
      "done sleeping\n",
      "done sleeping\n",
      "done sleeping\n",
      "done sleeping\n",
      "done sleeping\n"
     ]
    }
   ],
   "source": [
    "top5rwcCoords = get_coords(rwcity_links[:5])"
   ]
  },
  {
   "cell_type": "code",
   "execution_count": 100,
   "metadata": {},
   "outputs": [],
   "source": [
    "topfiverwc['location'] = top5rwcCoords"
   ]
  },
  {
   "cell_type": "code",
   "execution_count": 101,
   "metadata": {},
   "outputs": [
    {
     "data": {
      "text/html": [
       "<div>\n",
       "<style scoped>\n",
       "    .dataframe tbody tr th:only-of-type {\n",
       "        vertical-align: middle;\n",
       "    }\n",
       "\n",
       "    .dataframe tbody tr th {\n",
       "        vertical-align: top;\n",
       "    }\n",
       "\n",
       "    .dataframe thead th {\n",
       "        text-align: right;\n",
       "    }\n",
       "</style>\n",
       "<table border=\"1\" class=\"dataframe\">\n",
       "  <thead>\n",
       "    <tr style=\"text-align: right;\">\n",
       "      <th></th>\n",
       "      <th>name</th>\n",
       "      <th>difficulty</th>\n",
       "      <th>completion</th>\n",
       "      <th>length</th>\n",
       "      <th>elevation_gain</th>\n",
       "      <th>tags</th>\n",
       "      <th>NumberTags</th>\n",
       "      <th>city</th>\n",
       "      <th>rankCat</th>\n",
       "      <th>location</th>\n",
       "    </tr>\n",
       "  </thead>\n",
       "  <tbody>\n",
       "    <tr>\n",
       "      <th>0</th>\n",
       "      <td>Whittemore Gulch and Purisima Creek Loop Trail</td>\n",
       "      <td>hard</td>\n",
       "      <td>1968</td>\n",
       "      <td>9.3</td>\n",
       "      <td>2109</td>\n",
       "      <td>Hiking,Horseback-riding,Nature-trips,Bird-watc...</td>\n",
       "      <td>13</td>\n",
       "      <td>Redwood City</td>\n",
       "      <td>top</td>\n",
       "      <td>37.45006, -122.33866</td>\n",
       "    </tr>\n",
       "    <tr>\n",
       "      <th>1</th>\n",
       "      <td>Whittemore Gulch and Harkins Ridge Loop Trail</td>\n",
       "      <td>hard</td>\n",
       "      <td>1486</td>\n",
       "      <td>7.6</td>\n",
       "      <td>1853</td>\n",
       "      <td>Hiking,Mountain-biking,Nature-trips,Running,Fo...</td>\n",
       "      <td>10</td>\n",
       "      <td>Redwood City</td>\n",
       "      <td>top</td>\n",
       "      <td>37.44992, -122.33874</td>\n",
       "    </tr>\n",
       "    <tr>\n",
       "      <th>2</th>\n",
       "      <td>Crystal Springs and Dean Trail</td>\n",
       "      <td>moderate</td>\n",
       "      <td>1732</td>\n",
       "      <td>5.0</td>\n",
       "      <td>935</td>\n",
       "      <td>Kid-friendly,Hiking,Nature-trips,Walking,Runni...</td>\n",
       "      <td>11</td>\n",
       "      <td>Redwood City</td>\n",
       "      <td>top</td>\n",
       "      <td>37.44169, -122.29066</td>\n",
       "    </tr>\n",
       "    <tr>\n",
       "      <th>3</th>\n",
       "      <td>Purisima Creek Redwoods North Ridge Trail</td>\n",
       "      <td>moderate</td>\n",
       "      <td>1035</td>\n",
       "      <td>4.4</td>\n",
       "      <td>1361</td>\n",
       "      <td>Hiking,Horseback-riding,Mountain-biking,Nature...</td>\n",
       "      <td>17</td>\n",
       "      <td>Redwood City</td>\n",
       "      <td>top</td>\n",
       "      <td>37.44976, -122.33891</td>\n",
       "    </tr>\n",
       "    <tr>\n",
       "      <th>4</th>\n",
       "      <td>Edgewood Trail Loop</td>\n",
       "      <td>moderate</td>\n",
       "      <td>1133</td>\n",
       "      <td>3.1</td>\n",
       "      <td>590</td>\n",
       "      <td>Kid-friendly,Hiking,Nature-trips,Walking,Bird-...</td>\n",
       "      <td>10</td>\n",
       "      <td>Redwood City</td>\n",
       "      <td>top</td>\n",
       "      <td>37.4731, -122.27817</td>\n",
       "    </tr>\n",
       "  </tbody>\n",
       "</table>\n",
       "</div>"
      ],
      "text/plain": [
       "                                             name difficulty completion  \\\n",
       "0  Whittemore Gulch and Purisima Creek Loop Trail       hard       1968   \n",
       "1   Whittemore Gulch and Harkins Ridge Loop Trail       hard       1486   \n",
       "2                  Crystal Springs and Dean Trail   moderate       1732   \n",
       "3       Purisima Creek Redwoods North Ridge Trail   moderate       1035   \n",
       "4                             Edgewood Trail Loop   moderate       1133   \n",
       "\n",
       "   length  elevation_gain                                               tags  \\\n",
       "0     9.3            2109  Hiking,Horseback-riding,Nature-trips,Bird-watc...   \n",
       "1     7.6            1853  Hiking,Mountain-biking,Nature-trips,Running,Fo...   \n",
       "2     5.0             935  Kid-friendly,Hiking,Nature-trips,Walking,Runni...   \n",
       "3     4.4            1361  Hiking,Horseback-riding,Mountain-biking,Nature...   \n",
       "4     3.1             590  Kid-friendly,Hiking,Nature-trips,Walking,Bird-...   \n",
       "\n",
       "   NumberTags          city rankCat              location  \n",
       "0          13  Redwood City     top  37.45006, -122.33866  \n",
       "1          10  Redwood City     top  37.44992, -122.33874  \n",
       "2          11  Redwood City     top  37.44169, -122.29066  \n",
       "3          17  Redwood City     top  37.44976, -122.33891  \n",
       "4          10  Redwood City     top   37.4731, -122.27817  "
      ]
     },
     "execution_count": 101,
     "metadata": {},
     "output_type": "execute_result"
    }
   ],
   "source": [
    "topfiverwc"
   ]
  },
  {
   "cell_type": "code",
   "execution_count": 105,
   "metadata": {},
   "outputs": [
    {
     "name": "stdout",
     "output_type": "stream",
     "text": [
      "done sleeping\n",
      "done sleeping\n",
      "done sleeping\n",
      "done sleeping\n",
      "done sleeping\n"
     ]
    }
   ],
   "source": [
    "bot5rwcCoords = get_coords(rwcity_links[79:])"
   ]
  },
  {
   "cell_type": "code",
   "execution_count": 107,
   "metadata": {},
   "outputs": [],
   "source": [
    "bot_five_rwc = list(map(lambda link: get_data(link), rwcity_links[79:]))"
   ]
  },
  {
   "cell_type": "code",
   "execution_count": 108,
   "metadata": {},
   "outputs": [],
   "source": [
    "botfiverwc = pd.DataFrame(bot_five_rwc, columns = col_names, index = list(range(5)))"
   ]
  },
  {
   "cell_type": "code",
   "execution_count": 12,
   "metadata": {},
   "outputs": [],
   "source": [
    "bot_five_rwc['NumberTags'] = bot_five_rwc['tags'].apply(get_num_tags)\n",
    "bot_five_rwc['city'] = \"Redwood City\"\n",
    "bot_five_rwc['rankCat'] = \"bottom\""
   ]
  },
  {
   "cell_type": "code",
   "execution_count": null,
   "metadata": {},
   "outputs": [],
   "source": [
    "botfiverwc[location] = bot5rwcCoords"
   ]
  },
  {
   "cell_type": "code",
   "execution_count": 11,
   "metadata": {},
   "outputs": [
    {
     "data": {
      "text/html": [
       "<div>\n",
       "<style scoped>\n",
       "    .dataframe tbody tr th:only-of-type {\n",
       "        vertical-align: middle;\n",
       "    }\n",
       "\n",
       "    .dataframe tbody tr th {\n",
       "        vertical-align: top;\n",
       "    }\n",
       "\n",
       "    .dataframe thead th {\n",
       "        text-align: right;\n",
       "    }\n",
       "</style>\n",
       "<table border=\"1\" class=\"dataframe\">\n",
       "  <thead>\n",
       "    <tr style=\"text-align: right;\">\n",
       "      <th></th>\n",
       "      <th>name</th>\n",
       "      <th>difficulty</th>\n",
       "      <th>completion</th>\n",
       "      <th>length</th>\n",
       "      <th>elevation_gain</th>\n",
       "      <th>tags</th>\n",
       "      <th>NumberTags</th>\n",
       "      <th>city</th>\n",
       "      <th>rankCat</th>\n",
       "      <th>location</th>\n",
       "    </tr>\n",
       "  </thead>\n",
       "  <tbody>\n",
       "    <tr>\n",
       "      <th>0</th>\n",
       "      <td>Old La Honda Road</td>\n",
       "      <td>hard</td>\n",
       "      <td>19</td>\n",
       "      <td>19.9</td>\n",
       "      <td>2401</td>\n",
       "      <td>Nature-trips,Road-biking,Views,No-dogs</td>\n",
       "      <td>4</td>\n",
       "      <td>Redwood City</td>\n",
       "      <td>bottom</td>\n",
       "      <td>37.40736, -122.25689</td>\n",
       "    </tr>\n",
       "    <tr>\n",
       "      <th>1</th>\n",
       "      <td>Timerberview and Gordon Mill Trail</td>\n",
       "      <td>moderate</td>\n",
       "      <td>105</td>\n",
       "      <td>5.8</td>\n",
       "      <td>1443</td>\n",
       "      <td>Hiking,Nature-trips,Forest,Views,Wildlife</td>\n",
       "      <td>5</td>\n",
       "      <td>Redwood City</td>\n",
       "      <td>bottom</td>\n",
       "      <td>37.40598, -122.30461</td>\n",
       "    </tr>\n",
       "    <tr>\n",
       "      <th>2</th>\n",
       "      <td>Crystal Springs Trail</td>\n",
       "      <td>moderate</td>\n",
       "      <td>31</td>\n",
       "      <td>3.9</td>\n",
       "      <td>439</td>\n",
       "      <td>Hiking,Nature-trips,Walking,Running</td>\n",
       "      <td>4</td>\n",
       "      <td>Redwood City</td>\n",
       "      <td>bottom</td>\n",
       "      <td>37.46065, -122.2938</td>\n",
       "    </tr>\n",
       "    <tr>\n",
       "      <th>3</th>\n",
       "      <td>Bair Island Reserve &amp; Corkscrew Slough</td>\n",
       "      <td>easy</td>\n",
       "      <td>26</td>\n",
       "      <td>1.7</td>\n",
       "      <td>13</td>\n",
       "      <td>Kid-friendly,Paddle-sports,Walking,No-dogs</td>\n",
       "      <td>4</td>\n",
       "      <td>Redwood City</td>\n",
       "      <td>bottom</td>\n",
       "      <td>37.50198, -122.21455</td>\n",
       "    </tr>\n",
       "    <tr>\n",
       "      <th>4</th>\n",
       "      <td>Summit Springs Loop</td>\n",
       "      <td>easy</td>\n",
       "      <td>7</td>\n",
       "      <td>1.7</td>\n",
       "      <td>682</td>\n",
       "      <td>Kid-friendly,Hiking,Horseback-riding,Nature-tr...</td>\n",
       "      <td>13</td>\n",
       "      <td>Redwood City</td>\n",
       "      <td>bottom</td>\n",
       "      <td>37.42364, -122.27602</td>\n",
       "    </tr>\n",
       "  </tbody>\n",
       "</table>\n",
       "</div>"
      ],
      "text/plain": [
       "                                     name difficulty completion  length  \\\n",
       "0                       Old La Honda Road       hard         19    19.9   \n",
       "1      Timerberview and Gordon Mill Trail   moderate        105     5.8   \n",
       "2                   Crystal Springs Trail   moderate         31     3.9   \n",
       "3  Bair Island Reserve & Corkscrew Slough       easy         26     1.7   \n",
       "4                     Summit Springs Loop       easy          7     1.7   \n",
       "\n",
       "   elevation_gain                                               tags  \\\n",
       "0            2401             Nature-trips,Road-biking,Views,No-dogs   \n",
       "1            1443          Hiking,Nature-trips,Forest,Views,Wildlife   \n",
       "2             439                Hiking,Nature-trips,Walking,Running   \n",
       "3              13         Kid-friendly,Paddle-sports,Walking,No-dogs   \n",
       "4             682  Kid-friendly,Hiking,Horseback-riding,Nature-tr...   \n",
       "\n",
       "   NumberTags          city rankCat              location  \n",
       "0           4  Redwood City  bottom  37.40736, -122.25689  \n",
       "1           5  Redwood City  bottom  37.40598, -122.30461  \n",
       "2           4  Redwood City  bottom   37.46065, -122.2938  \n",
       "3           4  Redwood City  bottom  37.50198, -122.21455  \n",
       "4          13  Redwood City  bottom  37.42364, -122.27602  "
      ]
     },
     "execution_count": 11,
     "metadata": {},
     "output_type": "execute_result"
    }
   ],
   "source": [
    "botfiverwc"
   ]
  },
  {
   "cell_type": "markdown",
   "metadata": {},
   "source": [
    "### Top trails near Fremont"
   ]
  },
  {
   "cell_type": "code",
   "execution_count": 27,
   "metadata": {},
   "outputs": [],
   "source": [
    "browser.get('https://www.alltrails.com/us/california/fremont')"
   ]
  },
  {
   "cell_type": "code",
   "execution_count": 32,
   "metadata": {},
   "outputs": [],
   "source": [
    "link_span = browser.find_elements_by_xpath(\"//div[@class='styles-module__containerDescriptive___3aZqQ styles-module__trailCard___2oHiP']/a\")\n",
    "fremont_links = [link.get_attribute('href') for link in link_span]"
   ]
  },
  {
   "cell_type": "code",
   "execution_count": 17,
   "metadata": {},
   "outputs": [
    {
     "name": "stdout",
     "output_type": "stream",
     "text": [
      "done sleeping\n",
      "done sleeping\n",
      "done sleeping\n",
      "done sleeping\n",
      "done sleeping\n"
     ]
    }
   ],
   "source": [
    "top5fremontCoords = get_coords(fremont_links[:5])"
   ]
  },
  {
   "cell_type": "code",
   "execution_count": 18,
   "metadata": {},
   "outputs": [
    {
     "data": {
      "text/plain": [
       "['37.50438, -121.90833',\n",
       " '37.52716, -121.91312',\n",
       " '37.50432, -121.9085',\n",
       " '37.55359, -122.09011',\n",
       " '37.55393, -122.09124']"
      ]
     },
     "execution_count": 18,
     "metadata": {},
     "output_type": "execute_result"
    }
   ],
   "source": [
    "top5fremontCoords"
   ]
  },
  {
   "cell_type": "code",
   "execution_count": 25,
   "metadata": {},
   "outputs": [
    {
     "name": "stdout",
     "output_type": "stream",
     "text": [
      "done sleeping\n",
      "done sleeping\n",
      "done sleeping\n",
      "done sleeping\n",
      "done sleeping\n"
     ]
    }
   ],
   "source": [
    "bot5fremontCoords = get_coords(fremont_links[31:])"
   ]
  },
  {
   "cell_type": "code",
   "execution_count": 26,
   "metadata": {},
   "outputs": [
    {
     "data": {
      "text/plain": [
       "['37.55406, -122.0908',\n",
       " '37.53263, -122.07325',\n",
       " '37.55387, -122.09079',\n",
       " '37.55407, -122.0908',\n",
       " '37.5539, -122.09095']"
      ]
     },
     "execution_count": 26,
     "metadata": {},
     "output_type": "execute_result"
    }
   ],
   "source": [
    "bot5fremontCoords"
   ]
  },
  {
   "cell_type": "code",
   "execution_count": 30,
   "metadata": {},
   "outputs": [],
   "source": [
    "top_five_fremont = list(map(lambda link: get_data(link), fremont_links[:5]))"
   ]
  },
  {
   "cell_type": "code",
   "execution_count": 33,
   "metadata": {},
   "outputs": [],
   "source": [
    "bot_five_fremont = list(map(lambda link: get_data(link), fremont_links[31:]))"
   ]
  },
  {
   "cell_type": "code",
   "execution_count": 34,
   "metadata": {},
   "outputs": [],
   "source": [
    "topfivefremont = pd.DataFrame(top_five_fremont, columns = col_names, index = list(range(5)))\n",
    "botfivefremont = pd.DataFrame(bot_five_fremont, columns = col_names, index = list(range(5)))\n",
    "\n",
    "topfivefremont['NumberTags'] = topfivefremont['tags'].apply(get_num_tags)\n",
    "topfivefremont['city'] = \"Fremont\"\n",
    "topfivefremont['rankCat'] = \"top\"\n",
    "topfivefremont['location'] = top5fremontCoords\n",
    "\n",
    "botfivefremont['NumberTags'] = botfivefremont['tags'].apply(get_num_tags)\n",
    "botfivefremont['city'] = \"Fremont\"\n",
    "botfivefremont['rankCat'] = \"bottom\"\n",
    "botfivefremont['location'] = bot5fremontCoords"
   ]
  },
  {
   "cell_type": "code",
   "execution_count": 35,
   "metadata": {},
   "outputs": [
    {
     "data": {
      "text/html": [
       "<div>\n",
       "<style scoped>\n",
       "    .dataframe tbody tr th:only-of-type {\n",
       "        vertical-align: middle;\n",
       "    }\n",
       "\n",
       "    .dataframe tbody tr th {\n",
       "        vertical-align: top;\n",
       "    }\n",
       "\n",
       "    .dataframe thead th {\n",
       "        text-align: right;\n",
       "    }\n",
       "</style>\n",
       "<table border=\"1\" class=\"dataframe\">\n",
       "  <thead>\n",
       "    <tr style=\"text-align: right;\">\n",
       "      <th></th>\n",
       "      <th>name</th>\n",
       "      <th>difficulty</th>\n",
       "      <th>completion</th>\n",
       "      <th>length</th>\n",
       "      <th>elevation_gain</th>\n",
       "      <th>tags</th>\n",
       "      <th>NumberTags</th>\n",
       "      <th>city</th>\n",
       "      <th>rankCat</th>\n",
       "      <th>location</th>\n",
       "    </tr>\n",
       "  </thead>\n",
       "  <tbody>\n",
       "    <tr>\n",
       "      <th>0</th>\n",
       "      <td>Mission Peak Loop from Stanford Avenue Staging...</td>\n",
       "      <td>hard</td>\n",
       "      <td>6487</td>\n",
       "      <td>5.8</td>\n",
       "      <td>2135</td>\n",
       "      <td>Dog-friendly,Hiking,Horseback-riding,Mountain-...</td>\n",
       "      <td>11</td>\n",
       "      <td>Fremont</td>\n",
       "      <td>top</td>\n",
       "      <td>37.50438, -121.90833</td>\n",
       "    </tr>\n",
       "    <tr>\n",
       "      <th>1</th>\n",
       "      <td>Mission Peak from Ohlone College</td>\n",
       "      <td>hard</td>\n",
       "      <td>3048</td>\n",
       "      <td>7.3</td>\n",
       "      <td>2145</td>\n",
       "      <td>Dog-friendly,Backpacking,Camping,Hiking,Runnin...</td>\n",
       "      <td>11</td>\n",
       "      <td>Fremont</td>\n",
       "      <td>top</td>\n",
       "      <td>37.52716, -121.91312</td>\n",
       "    </tr>\n",
       "    <tr>\n",
       "      <th>2</th>\n",
       "      <td>Hidden Valley Trail</td>\n",
       "      <td>hard</td>\n",
       "      <td>2686</td>\n",
       "      <td>6.1</td>\n",
       "      <td>1847</td>\n",
       "      <td>Dogs-on-leash,Hiking,Nature-trips,Running,View...</td>\n",
       "      <td>9</td>\n",
       "      <td>Fremont</td>\n",
       "      <td>top</td>\n",
       "      <td>37.50432, -121.9085</td>\n",
       "    </tr>\n",
       "    <tr>\n",
       "      <th>3</th>\n",
       "      <td>Bayview and Meadowlark Trail Loop</td>\n",
       "      <td>easy</td>\n",
       "      <td>952</td>\n",
       "      <td>4.9</td>\n",
       "      <td>337</td>\n",
       "      <td>Dog-friendly,Wheelchair-friendly,Kid-friendly,...</td>\n",
       "      <td>17</td>\n",
       "      <td>Fremont</td>\n",
       "      <td>top</td>\n",
       "      <td>37.55359, -122.09011</td>\n",
       "    </tr>\n",
       "    <tr>\n",
       "      <th>4</th>\n",
       "      <td>Quail and Bayview Loop</td>\n",
       "      <td>easy</td>\n",
       "      <td>653</td>\n",
       "      <td>3.1</td>\n",
       "      <td>170</td>\n",
       "      <td>Hiking,Nature-trips,Walking,Bird-watching,Fee</td>\n",
       "      <td>5</td>\n",
       "      <td>Fremont</td>\n",
       "      <td>top</td>\n",
       "      <td>37.55393, -122.09124</td>\n",
       "    </tr>\n",
       "  </tbody>\n",
       "</table>\n",
       "</div>"
      ],
      "text/plain": [
       "                                                name difficulty completion  \\\n",
       "0  Mission Peak Loop from Stanford Avenue Staging...       hard       6487   \n",
       "1                   Mission Peak from Ohlone College       hard       3048   \n",
       "2                                Hidden Valley Trail       hard       2686   \n",
       "3                  Bayview and Meadowlark Trail Loop       easy        952   \n",
       "4                             Quail and Bayview Loop       easy        653   \n",
       "\n",
       "   length  elevation_gain                                               tags  \\\n",
       "0     5.8            2135  Dog-friendly,Hiking,Horseback-riding,Mountain-...   \n",
       "1     7.3            2145  Dog-friendly,Backpacking,Camping,Hiking,Runnin...   \n",
       "2     6.1            1847  Dogs-on-leash,Hiking,Nature-trips,Running,View...   \n",
       "3     4.9             337  Dog-friendly,Wheelchair-friendly,Kid-friendly,...   \n",
       "4     3.1             170      Hiking,Nature-trips,Walking,Bird-watching,Fee   \n",
       "\n",
       "   NumberTags     city rankCat              location  \n",
       "0          11  Fremont     top  37.50438, -121.90833  \n",
       "1          11  Fremont     top  37.52716, -121.91312  \n",
       "2           9  Fremont     top   37.50432, -121.9085  \n",
       "3          17  Fremont     top  37.55359, -122.09011  \n",
       "4           5  Fremont     top  37.55393, -122.09124  "
      ]
     },
     "execution_count": 35,
     "metadata": {},
     "output_type": "execute_result"
    }
   ],
   "source": [
    "topfivefremont"
   ]
  },
  {
   "cell_type": "code",
   "execution_count": 36,
   "metadata": {},
   "outputs": [
    {
     "data": {
      "text/html": [
       "<div>\n",
       "<style scoped>\n",
       "    .dataframe tbody tr th:only-of-type {\n",
       "        vertical-align: middle;\n",
       "    }\n",
       "\n",
       "    .dataframe tbody tr th {\n",
       "        vertical-align: top;\n",
       "    }\n",
       "\n",
       "    .dataframe thead th {\n",
       "        text-align: right;\n",
       "    }\n",
       "</style>\n",
       "<table border=\"1\" class=\"dataframe\">\n",
       "  <thead>\n",
       "    <tr style=\"text-align: right;\">\n",
       "      <th></th>\n",
       "      <th>name</th>\n",
       "      <th>difficulty</th>\n",
       "      <th>completion</th>\n",
       "      <th>length</th>\n",
       "      <th>elevation_gain</th>\n",
       "      <th>tags</th>\n",
       "      <th>NumberTags</th>\n",
       "      <th>city</th>\n",
       "      <th>rankCat</th>\n",
       "      <th>location</th>\n",
       "    </tr>\n",
       "  </thead>\n",
       "  <tbody>\n",
       "    <tr>\n",
       "      <th>0</th>\n",
       "      <td>Chochenyo, Red Hill and Meadowlark Loop</td>\n",
       "      <td>moderate</td>\n",
       "      <td>90</td>\n",
       "      <td>8.5</td>\n",
       "      <td>672</td>\n",
       "      <td>Dogs-on-leash,Kid-friendly,Backpacking,Hiking,...</td>\n",
       "      <td>17</td>\n",
       "      <td>Fremont</td>\n",
       "      <td>bottom</td>\n",
       "      <td>37.55406, -122.0908</td>\n",
       "    </tr>\n",
       "    <tr>\n",
       "      <th>1</th>\n",
       "      <td>Apay Way to No Name to Red Hills Loop</td>\n",
       "      <td>moderate</td>\n",
       "      <td>57</td>\n",
       "      <td>9.8</td>\n",
       "      <td>603</td>\n",
       "      <td>Dogs-on-leash,Kid-friendly,Hiking,Mountain-bik...</td>\n",
       "      <td>10</td>\n",
       "      <td>Fremont</td>\n",
       "      <td>bottom</td>\n",
       "      <td>37.53263, -122.07325</td>\n",
       "    </tr>\n",
       "    <tr>\n",
       "      <th>2</th>\n",
       "      <td>Nike, Bayview, Pelican, No Name, Soaproot Loop</td>\n",
       "      <td>easy</td>\n",
       "      <td>77</td>\n",
       "      <td>7.7</td>\n",
       "      <td>259</td>\n",
       "      <td>Hiking,Nature-trips,Walking,Bird-watching,Views</td>\n",
       "      <td>5</td>\n",
       "      <td>Fremont</td>\n",
       "      <td>bottom</td>\n",
       "      <td>37.55387, -122.09079</td>\n",
       "    </tr>\n",
       "    <tr>\n",
       "      <th>3</th>\n",
       "      <td>Lizard Rock Trail</td>\n",
       "      <td>easy</td>\n",
       "      <td>137</td>\n",
       "      <td>1.0</td>\n",
       "      <td>36</td>\n",
       "      <td>Kid-friendly,Hiking,Nature-trips,Walking,Bird-...</td>\n",
       "      <td>10</td>\n",
       "      <td>Fremont</td>\n",
       "      <td>bottom</td>\n",
       "      <td>37.55407, -122.0908</td>\n",
       "    </tr>\n",
       "    <tr>\n",
       "      <th>4</th>\n",
       "      <td>Quail Trail, Glider Hill, Soaproot Loop</td>\n",
       "      <td>easy</td>\n",
       "      <td>44</td>\n",
       "      <td>1.1</td>\n",
       "      <td>200</td>\n",
       "      <td>Hiking,Nature-trips,Walking,Bird-watching,View...</td>\n",
       "      <td>7</td>\n",
       "      <td>Fremont</td>\n",
       "      <td>bottom</td>\n",
       "      <td>37.5539, -122.09095</td>\n",
       "    </tr>\n",
       "  </tbody>\n",
       "</table>\n",
       "</div>"
      ],
      "text/plain": [
       "                                             name difficulty completion  \\\n",
       "0         Chochenyo, Red Hill and Meadowlark Loop   moderate         90   \n",
       "1           Apay Way to No Name to Red Hills Loop   moderate         57   \n",
       "2  Nike, Bayview, Pelican, No Name, Soaproot Loop       easy         77   \n",
       "3                               Lizard Rock Trail       easy        137   \n",
       "4         Quail Trail, Glider Hill, Soaproot Loop       easy         44   \n",
       "\n",
       "   length  elevation_gain                                               tags  \\\n",
       "0     8.5             672  Dogs-on-leash,Kid-friendly,Backpacking,Hiking,...   \n",
       "1     9.8             603  Dogs-on-leash,Kid-friendly,Hiking,Mountain-bik...   \n",
       "2     7.7             259    Hiking,Nature-trips,Walking,Bird-watching,Views   \n",
       "3     1.0              36  Kid-friendly,Hiking,Nature-trips,Walking,Bird-...   \n",
       "4     1.1             200  Hiking,Nature-trips,Walking,Bird-watching,View...   \n",
       "\n",
       "   NumberTags     city rankCat              location  \n",
       "0          17  Fremont  bottom   37.55406, -122.0908  \n",
       "1          10  Fremont  bottom  37.53263, -122.07325  \n",
       "2           5  Fremont  bottom  37.55387, -122.09079  \n",
       "3          10  Fremont  bottom   37.55407, -122.0908  \n",
       "4           7  Fremont  bottom   37.5539, -122.09095  "
      ]
     },
     "execution_count": 36,
     "metadata": {},
     "output_type": "execute_result"
    }
   ],
   "source": [
    "botfivefremont"
   ]
  },
  {
   "cell_type": "code",
   "execution_count": 37,
   "metadata": {},
   "outputs": [],
   "source": [
    "topfivefremont.to_pickle(\"topfivefremont.pkl\")\n",
    "botfivefremont.to_pickle(\"botfivefremont.pkl\")"
   ]
  },
  {
   "cell_type": "code",
   "execution_count": 44,
   "metadata": {},
   "outputs": [],
   "source": [
    "filenames = (glob.glob('[botp]*.pkl'))"
   ]
  },
  {
   "cell_type": "code",
   "execution_count": 45,
   "metadata": {},
   "outputs": [],
   "source": [
    "topbot = ['top', 'bot']"
   ]
  },
  {
   "cell_type": "code",
   "execution_count": 46,
   "metadata": {},
   "outputs": [],
   "source": [
    "filenames = (sorted(filenames, key = (lambda x: (re.search('(\\w{3})five(\\w+).pkl',x).group(2), topbot.index(re.search('(\\w{3})five(\\w+).pkl',x).group(1))))))"
   ]
  },
  {
   "cell_type": "code",
   "execution_count": 47,
   "metadata": {},
   "outputs": [],
   "source": [
    "df = (pd.concat((pd.read_pickle(file) for file in filenames)))"
   ]
  },
  {
   "cell_type": "code",
   "execution_count": 160,
   "metadata": {},
   "outputs": [],
   "source": [
    "x = [pd.read_pickle(file) for file in filenames]"
   ]
  },
  {
   "cell_type": "code",
   "execution_count": 48,
   "metadata": {},
   "outputs": [
    {
     "data": {
      "text/html": [
       "<div>\n",
       "<style scoped>\n",
       "    .dataframe tbody tr th:only-of-type {\n",
       "        vertical-align: middle;\n",
       "    }\n",
       "\n",
       "    .dataframe tbody tr th {\n",
       "        vertical-align: top;\n",
       "    }\n",
       "\n",
       "    .dataframe thead th {\n",
       "        text-align: right;\n",
       "    }\n",
       "</style>\n",
       "<table border=\"1\" class=\"dataframe\">\n",
       "  <thead>\n",
       "    <tr style=\"text-align: right;\">\n",
       "      <th></th>\n",
       "      <th>name</th>\n",
       "      <th>difficulty</th>\n",
       "      <th>completion</th>\n",
       "      <th>length</th>\n",
       "      <th>elevation_gain</th>\n",
       "      <th>tags</th>\n",
       "      <th>NumberTags</th>\n",
       "      <th>city</th>\n",
       "      <th>rankCat</th>\n",
       "      <th>location</th>\n",
       "    </tr>\n",
       "  </thead>\n",
       "  <tbody>\n",
       "    <tr>\n",
       "      <th>0</th>\n",
       "      <td>Seaview and Big Springs Trails Loop</td>\n",
       "      <td>moderate</td>\n",
       "      <td>2447</td>\n",
       "      <td>4.3</td>\n",
       "      <td>984</td>\n",
       "      <td>Dog-friendly,Kid-friendly,Hiking,Horseback-rid...</td>\n",
       "      <td>12</td>\n",
       "      <td>Berkeley</td>\n",
       "      <td>top</td>\n",
       "      <td>37.9006, -122.24968</td>\n",
       "    </tr>\n",
       "    <tr>\n",
       "      <th>1</th>\n",
       "      <td>Panoramic Hill, Chaparral Peak and Strawberry ...</td>\n",
       "      <td>hard</td>\n",
       "      <td>1558</td>\n",
       "      <td>6.2</td>\n",
       "      <td>1515</td>\n",
       "      <td>Dog-friendly,Hiking,Nature-trips,Bird-watching...</td>\n",
       "      <td>10</td>\n",
       "      <td>Berkeley</td>\n",
       "      <td>top</td>\n",
       "      <td>37.8627, -122.24408</td>\n",
       "    </tr>\n",
       "    <tr>\n",
       "      <th>2</th>\n",
       "      <td>Wildcat Gorge, Meadows Canyon and Curran Trail</td>\n",
       "      <td>moderate</td>\n",
       "      <td>1583</td>\n",
       "      <td>3.3</td>\n",
       "      <td>498</td>\n",
       "      <td>Dog-friendly,Kid-friendly,Hiking,Horseback-rid...</td>\n",
       "      <td>12</td>\n",
       "      <td>Berkeley</td>\n",
       "      <td>top</td>\n",
       "      <td>37.89572, -122.25213</td>\n",
       "    </tr>\n",
       "    <tr>\n",
       "      <th>3</th>\n",
       "      <td>Strawberry Canyon Fire Trail</td>\n",
       "      <td>moderate</td>\n",
       "      <td>1161</td>\n",
       "      <td>7.4</td>\n",
       "      <td>777</td>\n",
       "      <td>Dog-friendly,Kid-friendly,Hiking,Walking,Runni...</td>\n",
       "      <td>7</td>\n",
       "      <td>Berkeley</td>\n",
       "      <td>top</td>\n",
       "      <td>37.87251, -122.24178</td>\n",
       "    </tr>\n",
       "    <tr>\n",
       "      <th>4</th>\n",
       "      <td>Upper and Lower Big Springs and Seaview Trails</td>\n",
       "      <td>moderate</td>\n",
       "      <td>1397</td>\n",
       "      <td>2.9</td>\n",
       "      <td>652</td>\n",
       "      <td>Dogs-on-leash,Kid-friendly,Hiking,Mountain-bik...</td>\n",
       "      <td>5</td>\n",
       "      <td>Berkeley</td>\n",
       "      <td>top</td>\n",
       "      <td>37.89035, -122.23651</td>\n",
       "    </tr>\n",
       "    <tr>\n",
       "      <th>...</th>\n",
       "      <td>...</td>\n",
       "      <td>...</td>\n",
       "      <td>...</td>\n",
       "      <td>...</td>\n",
       "      <td>...</td>\n",
       "      <td>...</td>\n",
       "      <td>...</td>\n",
       "      <td>...</td>\n",
       "      <td>...</td>\n",
       "      <td>...</td>\n",
       "    </tr>\n",
       "    <tr>\n",
       "      <th>0</th>\n",
       "      <td>Mount Diablo via Wall Point Road and Summit Tr...</td>\n",
       "      <td>hard</td>\n",
       "      <td>82</td>\n",
       "      <td>13.8</td>\n",
       "      <td>3490</td>\n",
       "      <td>Hiking,Views,Closed,No-dogs</td>\n",
       "      <td>4</td>\n",
       "      <td>Walnut Creek</td>\n",
       "      <td>bottom</td>\n",
       "      <td>37.86249, -121.97916</td>\n",
       "    </tr>\n",
       "    <tr>\n",
       "      <th>1</th>\n",
       "      <td>Diablo Foothills Crests and Creeks [CLOSED]</td>\n",
       "      <td>moderate</td>\n",
       "      <td>22</td>\n",
       "      <td>13.0</td>\n",
       "      <td>2440</td>\n",
       "      <td>Hiking,Nature-trips,Bird-watching,Views,Wild-f...</td>\n",
       "      <td>7</td>\n",
       "      <td>Walnut Creek</td>\n",
       "      <td>bottom</td>\n",
       "      <td>37.89394, -121.99418</td>\n",
       "    </tr>\n",
       "    <tr>\n",
       "      <th>2</th>\n",
       "      <td>Diablo Foothills to Summit Loop [CLOSED]</td>\n",
       "      <td>hard</td>\n",
       "      <td>30</td>\n",
       "      <td>16.0</td>\n",
       "      <td>3887</td>\n",
       "      <td>Hiking,Nature-trips,Bird-watching,Views,Wild-f...</td>\n",
       "      <td>7</td>\n",
       "      <td>Walnut Creek</td>\n",
       "      <td>bottom</td>\n",
       "      <td>37.89406, -121.99448</td>\n",
       "    </tr>\n",
       "    <tr>\n",
       "      <th>3</th>\n",
       "      <td>Macedo Ranch Loop [CLOSED]</td>\n",
       "      <td>hard</td>\n",
       "      <td>54</td>\n",
       "      <td>8.4</td>\n",
       "      <td>1801</td>\n",
       "      <td>Hiking,Nature-trips,Bird-watching,Running,View...</td>\n",
       "      <td>9</td>\n",
       "      <td>Walnut Creek</td>\n",
       "      <td>bottom</td>\n",
       "      <td>37.86249, -121.97916</td>\n",
       "    </tr>\n",
       "    <tr>\n",
       "      <th>4</th>\n",
       "      <td>Little Pine Creek, Burma, Falcon Road Loop [CL...</td>\n",
       "      <td>moderate</td>\n",
       "      <td>13</td>\n",
       "      <td>3.5</td>\n",
       "      <td>744</td>\n",
       "      <td>Hiking,Nature-trips,Bird-watching,Views,Wild-f...</td>\n",
       "      <td>6</td>\n",
       "      <td>Walnut Creek</td>\n",
       "      <td>bottom</td>\n",
       "      <td>37.88513, -121.9777</td>\n",
       "    </tr>\n",
       "  </tbody>\n",
       "</table>\n",
       "<p>115 rows × 10 columns</p>\n",
       "</div>"
      ],
      "text/plain": [
       "                                                 name difficulty completion  \\\n",
       "0                 Seaview and Big Springs Trails Loop   moderate       2447   \n",
       "1   Panoramic Hill, Chaparral Peak and Strawberry ...       hard       1558   \n",
       "2      Wildcat Gorge, Meadows Canyon and Curran Trail   moderate       1583   \n",
       "3                        Strawberry Canyon Fire Trail   moderate       1161   \n",
       "4      Upper and Lower Big Springs and Seaview Trails   moderate       1397   \n",
       "..                                                ...        ...        ...   \n",
       "0   Mount Diablo via Wall Point Road and Summit Tr...       hard         82   \n",
       "1         Diablo Foothills Crests and Creeks [CLOSED]   moderate         22   \n",
       "2            Diablo Foothills to Summit Loop [CLOSED]       hard         30   \n",
       "3                          Macedo Ranch Loop [CLOSED]       hard         54   \n",
       "4   Little Pine Creek, Burma, Falcon Road Loop [CL...   moderate         13   \n",
       "\n",
       "    length  elevation_gain                                               tags  \\\n",
       "0      4.3             984  Dog-friendly,Kid-friendly,Hiking,Horseback-rid...   \n",
       "1      6.2            1515  Dog-friendly,Hiking,Nature-trips,Bird-watching...   \n",
       "2      3.3             498  Dog-friendly,Kid-friendly,Hiking,Horseback-rid...   \n",
       "3      7.4             777  Dog-friendly,Kid-friendly,Hiking,Walking,Runni...   \n",
       "4      2.9             652  Dogs-on-leash,Kid-friendly,Hiking,Mountain-bik...   \n",
       "..     ...             ...                                                ...   \n",
       "0     13.8            3490                        Hiking,Views,Closed,No-dogs   \n",
       "1     13.0            2440  Hiking,Nature-trips,Bird-watching,Views,Wild-f...   \n",
       "2     16.0            3887  Hiking,Nature-trips,Bird-watching,Views,Wild-f...   \n",
       "3      8.4            1801  Hiking,Nature-trips,Bird-watching,Running,View...   \n",
       "4      3.5             744  Hiking,Nature-trips,Bird-watching,Views,Wild-f...   \n",
       "\n",
       "    NumberTags          city rankCat              location  \n",
       "0           12      Berkeley     top   37.9006, -122.24968  \n",
       "1           10      Berkeley     top   37.8627, -122.24408  \n",
       "2           12      Berkeley     top  37.89572, -122.25213  \n",
       "3            7      Berkeley     top  37.87251, -122.24178  \n",
       "4            5      Berkeley     top  37.89035, -122.23651  \n",
       "..         ...           ...     ...                   ...  \n",
       "0            4  Walnut Creek  bottom  37.86249, -121.97916  \n",
       "1            7  Walnut Creek  bottom  37.89394, -121.99418  \n",
       "2            7  Walnut Creek  bottom  37.89406, -121.99448  \n",
       "3            9  Walnut Creek  bottom  37.86249, -121.97916  \n",
       "4            6  Walnut Creek  bottom   37.88513, -121.9777  \n",
       "\n",
       "[115 rows x 10 columns]"
      ]
     },
     "execution_count": 48,
     "metadata": {},
     "output_type": "execute_result"
    }
   ],
   "source": [
    "df"
   ]
  },
  {
   "cell_type": "code",
   "execution_count": 49,
   "metadata": {},
   "outputs": [],
   "source": [
    "df.to_excel(\"hikingtrails.xlsx\")"
   ]
  },
  {
   "cell_type": "markdown",
   "metadata": {},
   "source": [
    "### Top trails near Los Altos "
   ]
  },
  {
   "cell_type": "code",
   "execution_count": 22,
   "metadata": {},
   "outputs": [],
   "source": [
    "browser.get(\"https://www.alltrails.com/us/california/los-altos\")"
   ]
  },
  {
   "cell_type": "code",
   "execution_count": 24,
   "metadata": {},
   "outputs": [],
   "source": [
    "link_span = browser.find_elements_by_xpath(\"//div[@class='styles-module__containerDescriptive___3aZqQ styles-module__trailCard___2oHiP']/a\")\n",
    "losaltos_links = [link.get_attribute('href') for link in link_span]"
   ]
  },
  {
   "cell_type": "code",
   "execution_count": 15,
   "metadata": {},
   "outputs": [
    {
     "name": "stdout",
     "output_type": "stream",
     "text": [
      "done sleeping\n",
      "done sleeping\n",
      "done sleeping\n",
      "done sleeping\n",
      "done sleeping\n"
     ]
    }
   ],
   "source": [
    "top5losaltosCoords = get_coords(losaltos_links[:5])"
   ]
  },
  {
   "cell_type": "code",
   "execution_count": 16,
   "metadata": {},
   "outputs": [
    {
     "data": {
      "text/plain": [
       "['37.35211, -122.13802',\n",
       " '37.3522, -122.1382',\n",
       " '37.31203, -122.1768',\n",
       " '37.32546, -122.17868',\n",
       " '37.35215, -122.13801']"
      ]
     },
     "execution_count": 16,
     "metadata": {},
     "output_type": "execute_result"
    }
   ],
   "source": [
    "top5losaltosCoords"
   ]
  },
  {
   "cell_type": "code",
   "execution_count": 18,
   "metadata": {},
   "outputs": [
    {
     "name": "stdout",
     "output_type": "stream",
     "text": [
      "done sleeping\n",
      "done sleeping\n",
      "done sleeping\n",
      "done sleeping\n",
      "done sleeping\n"
     ]
    }
   ],
   "source": [
    "bot5losaltosCoords = get_coords(losaltos_links[24:29])"
   ]
  },
  {
   "cell_type": "code",
   "execution_count": 19,
   "metadata": {},
   "outputs": [
    {
     "data": {
      "text/plain": [
       "['37.32602, -122.17999',\n",
       " '37.35225, -122.1598',\n",
       " '37.35173, -122.16028',\n",
       " '37.34999, -122.16082']"
      ]
     },
     "execution_count": 19,
     "metadata": {},
     "output_type": "execute_result"
    }
   ],
   "source": [
    "bot5losaltosCoords"
   ]
  },
  {
   "cell_type": "code",
   "execution_count": 20,
   "metadata": {},
   "outputs": [
    {
     "name": "stdout",
     "output_type": "stream",
     "text": [
      "done sleeping\n"
     ]
    }
   ],
   "source": [
    "bot5losaltosCoords.insert(1,get_coords_by_link(losaltos_links[25], alt_icon_src))"
   ]
  },
  {
   "cell_type": "code",
   "execution_count": 21,
   "metadata": {},
   "outputs": [
    {
     "data": {
      "text/plain": [
       "['37.32602, -122.17999',\n",
       " '37.29051, -122.15424',\n",
       " '37.35225, -122.1598',\n",
       " '37.35173, -122.16028',\n",
       " '37.34999, -122.16082']"
      ]
     },
     "execution_count": 21,
     "metadata": {},
     "output_type": "execute_result"
    }
   ],
   "source": [
    "bot5losaltosCoords"
   ]
  },
  {
   "cell_type": "code",
   "execution_count": 25,
   "metadata": {},
   "outputs": [],
   "source": [
    "top_five_losaltos = list(map(lambda link: get_data(link), losaltos_links[:5]))"
   ]
  },
  {
   "cell_type": "code",
   "execution_count": 26,
   "metadata": {},
   "outputs": [],
   "source": [
    "bot_five_losaltos = list(map(lambda link: get_data(link), losaltos_links[24:29]))"
   ]
  },
  {
   "cell_type": "code",
   "execution_count": 28,
   "metadata": {},
   "outputs": [],
   "source": [
    "topfivelostaltos = pd.DataFrame(top_five_losaltos, columns = col_names, index = list(range(5)))\n",
    "botfivelostaltos = pd.DataFrame(bot_five_losaltos, columns = col_names, index = list(range(5)))\n",
    "\n",
    "topfivelostaltos['NumberTags'] = topfivelostaltos['tags'].apply(get_num_tags)\n",
    "topfivelostaltos['city'] = \"Los Altos\"\n",
    "topfivelostaltos['rankCat'] = \"top\"\n",
    "topfivelostaltos['location'] = top5losaltosCoords\n",
    "\n",
    "botfivelostaltos['NumberTags'] = botfivelostaltos['tags'].apply(get_num_tags)\n",
    "botfivelostaltos['city'] = \"Los Altos\"\n",
    "botfivelostaltos['rankCat'] = \"bottom\"\n",
    "botfivelostaltos['location'] = bot5losaltosCoords"
   ]
  },
  {
   "cell_type": "code",
   "execution_count": 29,
   "metadata": {},
   "outputs": [
    {
     "data": {
      "text/html": [
       "<div>\n",
       "<style scoped>\n",
       "    .dataframe tbody tr th:only-of-type {\n",
       "        vertical-align: middle;\n",
       "    }\n",
       "\n",
       "    .dataframe tbody tr th {\n",
       "        vertical-align: top;\n",
       "    }\n",
       "\n",
       "    .dataframe thead th {\n",
       "        text-align: right;\n",
       "    }\n",
       "</style>\n",
       "<table border=\"1\" class=\"dataframe\">\n",
       "  <thead>\n",
       "    <tr style=\"text-align: right;\">\n",
       "      <th></th>\n",
       "      <th>name</th>\n",
       "      <th>difficulty</th>\n",
       "      <th>completion</th>\n",
       "      <th>length</th>\n",
       "      <th>elevation_gain</th>\n",
       "      <th>tags</th>\n",
       "      <th>NumberTags</th>\n",
       "      <th>city</th>\n",
       "      <th>rankCat</th>\n",
       "      <th>location</th>\n",
       "    </tr>\n",
       "  </thead>\n",
       "  <tbody>\n",
       "    <tr>\n",
       "      <th>0</th>\n",
       "      <td>Black Mountain via Rhus Ridge</td>\n",
       "      <td>moderate</td>\n",
       "      <td>608</td>\n",
       "      <td>9.2</td>\n",
       "      <td>2506</td>\n",
       "      <td>Hiking,Walking,Running,Forest,Views,Wild-flowe...</td>\n",
       "      <td>8</td>\n",
       "      <td>Los Altos</td>\n",
       "      <td>top</td>\n",
       "      <td>37.35211, -122.13802</td>\n",
       "    </tr>\n",
       "    <tr>\n",
       "      <th>1</th>\n",
       "      <td>Rhus Ridge and Creek Trail Loop</td>\n",
       "      <td>moderate</td>\n",
       "      <td>363</td>\n",
       "      <td>7.1</td>\n",
       "      <td>1669</td>\n",
       "      <td>Hiking,Nature-trips,Running,Forest,Views,Wild-...</td>\n",
       "      <td>8</td>\n",
       "      <td>Los Altos</td>\n",
       "      <td>top</td>\n",
       "      <td>37.3522, -122.1382</td>\n",
       "    </tr>\n",
       "    <tr>\n",
       "      <th>2</th>\n",
       "      <td>Horseshoe Lake - Alpine Pond - Borel Hill</td>\n",
       "      <td>moderate</td>\n",
       "      <td>220</td>\n",
       "      <td>6.1</td>\n",
       "      <td>1079</td>\n",
       "      <td>Kid-friendly,Hiking,Horseback-riding,Mountain-...</td>\n",
       "      <td>14</td>\n",
       "      <td>Los Altos</td>\n",
       "      <td>top</td>\n",
       "      <td>37.31203, -122.1768</td>\n",
       "    </tr>\n",
       "    <tr>\n",
       "      <th>3</th>\n",
       "      <td>Monte Bello Black Mountain Loop</td>\n",
       "      <td>moderate</td>\n",
       "      <td>414</td>\n",
       "      <td>5.4</td>\n",
       "      <td>1007</td>\n",
       "      <td>Kid-friendly,Hiking,Nature-trips,Walking,Fores...</td>\n",
       "      <td>10</td>\n",
       "      <td>Los Altos</td>\n",
       "      <td>top</td>\n",
       "      <td>37.32546, -122.17868</td>\n",
       "    </tr>\n",
       "    <tr>\n",
       "      <th>4</th>\n",
       "      <td>Rhus Ridge Trail</td>\n",
       "      <td>moderate</td>\n",
       "      <td>681</td>\n",
       "      <td>1.7</td>\n",
       "      <td>626</td>\n",
       "      <td>Hiking,Walking,Views,Wild-flowers,No-dogs</td>\n",
       "      <td>5</td>\n",
       "      <td>Los Altos</td>\n",
       "      <td>top</td>\n",
       "      <td>37.35215, -122.13801</td>\n",
       "    </tr>\n",
       "  </tbody>\n",
       "</table>\n",
       "</div>"
      ],
      "text/plain": [
       "                                        name difficulty completion  length  \\\n",
       "0              Black Mountain via Rhus Ridge   moderate        608     9.2   \n",
       "1            Rhus Ridge and Creek Trail Loop   moderate        363     7.1   \n",
       "2  Horseshoe Lake - Alpine Pond - Borel Hill   moderate        220     6.1   \n",
       "3            Monte Bello Black Mountain Loop   moderate        414     5.4   \n",
       "4                           Rhus Ridge Trail   moderate        681     1.7   \n",
       "\n",
       "   elevation_gain                                               tags  \\\n",
       "0            2506  Hiking,Walking,Running,Forest,Views,Wild-flowe...   \n",
       "1            1669  Hiking,Nature-trips,Running,Forest,Views,Wild-...   \n",
       "2            1079  Kid-friendly,Hiking,Horseback-riding,Mountain-...   \n",
       "3            1007  Kid-friendly,Hiking,Nature-trips,Walking,Fores...   \n",
       "4             626          Hiking,Walking,Views,Wild-flowers,No-dogs   \n",
       "\n",
       "   NumberTags       city rankCat              location  \n",
       "0           8  Los Altos     top  37.35211, -122.13802  \n",
       "1           8  Los Altos     top    37.3522, -122.1382  \n",
       "2          14  Los Altos     top   37.31203, -122.1768  \n",
       "3          10  Los Altos     top  37.32546, -122.17868  \n",
       "4           5  Los Altos     top  37.35215, -122.13801  "
      ]
     },
     "execution_count": 29,
     "metadata": {},
     "output_type": "execute_result"
    }
   ],
   "source": [
    "topfivelostaltos"
   ]
  },
  {
   "cell_type": "code",
   "execution_count": 30,
   "metadata": {},
   "outputs": [
    {
     "data": {
      "text/html": [
       "<div>\n",
       "<style scoped>\n",
       "    .dataframe tbody tr th:only-of-type {\n",
       "        vertical-align: middle;\n",
       "    }\n",
       "\n",
       "    .dataframe tbody tr th {\n",
       "        vertical-align: top;\n",
       "    }\n",
       "\n",
       "    .dataframe thead th {\n",
       "        text-align: right;\n",
       "    }\n",
       "</style>\n",
       "<table border=\"1\" class=\"dataframe\">\n",
       "  <thead>\n",
       "    <tr style=\"text-align: right;\">\n",
       "      <th></th>\n",
       "      <th>name</th>\n",
       "      <th>difficulty</th>\n",
       "      <th>completion</th>\n",
       "      <th>length</th>\n",
       "      <th>elevation_gain</th>\n",
       "      <th>tags</th>\n",
       "      <th>NumberTags</th>\n",
       "      <th>city</th>\n",
       "      <th>rankCat</th>\n",
       "      <th>location</th>\n",
       "    </tr>\n",
       "  </thead>\n",
       "  <tbody>\n",
       "    <tr>\n",
       "      <th>0</th>\n",
       "      <td>Los Trancos Loop Trail</td>\n",
       "      <td>easy</td>\n",
       "      <td>71</td>\n",
       "      <td>2.7</td>\n",
       "      <td>452</td>\n",
       "      <td>Kid-friendly,Hiking,Nature-trips,Walking,Bird-...</td>\n",
       "      <td>10</td>\n",
       "      <td>Los Altos</td>\n",
       "      <td>bottom</td>\n",
       "      <td>37.32602, -122.17999</td>\n",
       "    </tr>\n",
       "    <tr>\n",
       "      <th>1</th>\n",
       "      <td>Long Ridge to Peters Creek</td>\n",
       "      <td>hard</td>\n",
       "      <td>13</td>\n",
       "      <td>18.3</td>\n",
       "      <td>4064</td>\n",
       "      <td>Hiking,Nature-trips,Views,Wild-flowers</td>\n",
       "      <td>4</td>\n",
       "      <td>Los Altos</td>\n",
       "      <td>bottom</td>\n",
       "      <td>37.29051, -122.15424</td>\n",
       "    </tr>\n",
       "    <tr>\n",
       "      <th>2</th>\n",
       "      <td>Long Bunny Loop Trail</td>\n",
       "      <td>moderate</td>\n",
       "      <td>21</td>\n",
       "      <td>2.4</td>\n",
       "      <td>488</td>\n",
       "      <td>Hiking,Nature-trips,Bird-watching,Running,Fore...</td>\n",
       "      <td>7</td>\n",
       "      <td>Los Altos</td>\n",
       "      <td>bottom</td>\n",
       "      <td>37.35225, -122.1598</td>\n",
       "    </tr>\n",
       "    <tr>\n",
       "      <th>3</th>\n",
       "      <td>Hostel Trail, Pipeline Trail and Creek Trail Loop</td>\n",
       "      <td>easy</td>\n",
       "      <td>44</td>\n",
       "      <td>2.1</td>\n",
       "      <td>449</td>\n",
       "      <td>Hiking,Nature-trips,Walking,Bird-watching,Fore...</td>\n",
       "      <td>7</td>\n",
       "      <td>Los Altos</td>\n",
       "      <td>bottom</td>\n",
       "      <td>37.35173, -122.16028</td>\n",
       "    </tr>\n",
       "    <tr>\n",
       "      <th>4</th>\n",
       "      <td>Hostel Trail to Toyon Trail</td>\n",
       "      <td>easy</td>\n",
       "      <td>31</td>\n",
       "      <td>1.1</td>\n",
       "      <td>400</td>\n",
       "      <td>Kid-friendly,Hiking,Nature-trips,Walking,Bird-...</td>\n",
       "      <td>9</td>\n",
       "      <td>Los Altos</td>\n",
       "      <td>bottom</td>\n",
       "      <td>37.34999, -122.16082</td>\n",
       "    </tr>\n",
       "  </tbody>\n",
       "</table>\n",
       "</div>"
      ],
      "text/plain": [
       "                                                name difficulty completion  \\\n",
       "0                             Los Trancos Loop Trail       easy         71   \n",
       "1                         Long Ridge to Peters Creek       hard         13   \n",
       "2                              Long Bunny Loop Trail   moderate         21   \n",
       "3  Hostel Trail, Pipeline Trail and Creek Trail Loop       easy         44   \n",
       "4                        Hostel Trail to Toyon Trail       easy         31   \n",
       "\n",
       "   length  elevation_gain                                               tags  \\\n",
       "0     2.7             452  Kid-friendly,Hiking,Nature-trips,Walking,Bird-...   \n",
       "1    18.3            4064             Hiking,Nature-trips,Views,Wild-flowers   \n",
       "2     2.4             488  Hiking,Nature-trips,Bird-watching,Running,Fore...   \n",
       "3     2.1             449  Hiking,Nature-trips,Walking,Bird-watching,Fore...   \n",
       "4     1.1             400  Kid-friendly,Hiking,Nature-trips,Walking,Bird-...   \n",
       "\n",
       "   NumberTags       city rankCat              location  \n",
       "0          10  Los Altos  bottom  37.32602, -122.17999  \n",
       "1           4  Los Altos  bottom  37.29051, -122.15424  \n",
       "2           7  Los Altos  bottom   37.35225, -122.1598  \n",
       "3           7  Los Altos  bottom  37.35173, -122.16028  \n",
       "4           9  Los Altos  bottom  37.34999, -122.16082  "
      ]
     },
     "execution_count": 30,
     "metadata": {},
     "output_type": "execute_result"
    }
   ],
   "source": [
    "botfivelostaltos"
   ]
  },
  {
   "cell_type": "code",
   "execution_count": 31,
   "metadata": {},
   "outputs": [],
   "source": [
    "topfivelostaltos.to_pickle(\"topfivelostaltos.pkl\")\n",
    "botfivelostaltos.to_pickle(\"botfivelostaltos.pkl\")"
   ]
  },
  {
   "cell_type": "markdown",
   "metadata": {},
   "source": [
    "### Berkeley Trails"
   ]
  },
  {
   "cell_type": "code",
   "execution_count": 46,
   "metadata": {},
   "outputs": [],
   "source": [
    "browser.get(\"https://www.alltrails.com/us/california/berkeley\")"
   ]
  },
  {
   "cell_type": "code",
   "execution_count": 48,
   "metadata": {},
   "outputs": [],
   "source": [
    "link_span = browser.find_elements_by_xpath(\"//div[@class='styles-module__containerDescriptive___3aZqQ styles-module__trailCard___2oHiP']/a\")\n",
    "berk_links = [link.get_attribute('href') for link in link_span]"
   ]
  },
  {
   "cell_type": "code",
   "execution_count": 37,
   "metadata": {},
   "outputs": [
    {
     "name": "stdout",
     "output_type": "stream",
     "text": [
      "done sleeping\n"
     ]
    }
   ],
   "source": [
    "#top5berkCoords = get_coords(berk_links[:5])\n",
    "top5berkCoords = []\n",
    "browser.get(berk_links[0])\n",
    "top5berkCoords.insert(0,get_coords_by_link(berk_links[0], icon_src))\n",
    "#top5berkCoords.insert(1,get_coords_by_link(berk_links[1], icon_src))"
   ]
  },
  {
   "cell_type": "code",
   "execution_count": 38,
   "metadata": {},
   "outputs": [],
   "source": [
    "browser.get(berk_links[1])"
   ]
  },
  {
   "cell_type": "code",
   "execution_count": 39,
   "metadata": {},
   "outputs": [],
   "source": [
    "icon_to_hover = browser.find_elements_by_xpath(\"//*[@id='map']/div[1]/div[2]/div[3]/img[13]\")\n",
    "hoveritem = ActionChains(browser).move_to_element(icon_to_hover[0])\n",
    "hoveritem.perform()\n",
    "top5berkCoords.append(browser.find_elements_by_xpath(\"//div[@class='coordinates']\")[0].text)"
   ]
  },
  {
   "cell_type": "code",
   "execution_count": 42,
   "metadata": {},
   "outputs": [
    {
     "name": "stdout",
     "output_type": "stream",
     "text": [
      "done sleeping\n",
      "done sleeping\n",
      "done sleeping\n"
     ]
    }
   ],
   "source": [
    "reminaingtop5 = get_coords(berk_links[2:5])"
   ]
  },
  {
   "cell_type": "code",
   "execution_count": 44,
   "metadata": {},
   "outputs": [],
   "source": [
    "top5berkCoords = [*top5berkCoords, *reminaingtop5]"
   ]
  },
  {
   "cell_type": "code",
   "execution_count": 45,
   "metadata": {},
   "outputs": [
    {
     "data": {
      "text/plain": [
       "['37.9006, -122.24968',\n",
       " '37.8627, -122.24408',\n",
       " '37.89572, -122.25213',\n",
       " '37.87251, -122.24178',\n",
       " '37.89035, -122.23651']"
      ]
     },
     "execution_count": 45,
     "metadata": {},
     "output_type": "execute_result"
    }
   ],
   "source": [
    "top5berkCoords"
   ]
  },
  {
   "cell_type": "code",
   "execution_count": 50,
   "metadata": {},
   "outputs": [
    {
     "name": "stdout",
     "output_type": "stream",
     "text": [
      "done sleeping\n",
      "done sleeping\n",
      "done sleeping\n",
      "done sleeping\n",
      "done sleeping\n"
     ]
    }
   ],
   "source": [
    "bot5berkCoords = get_coords(berk_links[60:])"
   ]
  },
  {
   "cell_type": "code",
   "execution_count": 51,
   "metadata": {},
   "outputs": [
    {
     "data": {
      "text/plain": [
       "['37.87515, -122.26017',\n",
       " '37.8751, -122.26007',\n",
       " '37.88182, -122.27111',\n",
       " '37.87352, -122.25945']"
      ]
     },
     "execution_count": 51,
     "metadata": {},
     "output_type": "execute_result"
    }
   ],
   "source": [
    "bot5berkCoords"
   ]
  },
  {
   "cell_type": "code",
   "execution_count": 52,
   "metadata": {},
   "outputs": [
    {
     "name": "stdout",
     "output_type": "stream",
     "text": [
      "done sleeping\n"
     ]
    }
   ],
   "source": [
    "bot5berkCoords.insert(0,get_coords_by_link(berk_links[60], alt_icon_src))"
   ]
  },
  {
   "cell_type": "code",
   "execution_count": 54,
   "metadata": {},
   "outputs": [],
   "source": [
    "top_five_berk = list(map(lambda link: get_data(link), berk_links[:5]))"
   ]
  },
  {
   "cell_type": "code",
   "execution_count": 55,
   "metadata": {},
   "outputs": [],
   "source": [
    "bot_five_berk = list(map(lambda link: get_data(link), berk_links[60:]))"
   ]
  },
  {
   "cell_type": "code",
   "execution_count": 56,
   "metadata": {},
   "outputs": [],
   "source": [
    "topfiveberk = pd.DataFrame(top_five_berk, columns = col_names, index = list(range(5)))\n",
    "botfiveberk = pd.DataFrame(bot_five_berk, columns = col_names, index = list(range(5)))\n",
    "\n",
    "topfiveberk['NumberTags'] = topfiveberk['tags'].apply(get_num_tags)\n",
    "topfiveberk['city'] = \"Berkeley\"\n",
    "topfiveberk['rankCat'] = \"top\"\n",
    "topfiveberk['location'] = top5berkCoords\n",
    "\n",
    "botfiveberk['NumberTags'] = botfiveberk['tags'].apply(get_num_tags)\n",
    "botfiveberk['city'] = \"Berkeley\"\n",
    "botfiveberk['rankCat'] = \"bottom\"\n",
    "botfiveberk['location'] = bot5berkCoords"
   ]
  },
  {
   "cell_type": "code",
   "execution_count": 57,
   "metadata": {},
   "outputs": [
    {
     "data": {
      "text/html": [
       "<div>\n",
       "<style scoped>\n",
       "    .dataframe tbody tr th:only-of-type {\n",
       "        vertical-align: middle;\n",
       "    }\n",
       "\n",
       "    .dataframe tbody tr th {\n",
       "        vertical-align: top;\n",
       "    }\n",
       "\n",
       "    .dataframe thead th {\n",
       "        text-align: right;\n",
       "    }\n",
       "</style>\n",
       "<table border=\"1\" class=\"dataframe\">\n",
       "  <thead>\n",
       "    <tr style=\"text-align: right;\">\n",
       "      <th></th>\n",
       "      <th>name</th>\n",
       "      <th>difficulty</th>\n",
       "      <th>completion</th>\n",
       "      <th>length</th>\n",
       "      <th>elevation_gain</th>\n",
       "      <th>tags</th>\n",
       "      <th>NumberTags</th>\n",
       "      <th>city</th>\n",
       "      <th>rankCat</th>\n",
       "      <th>location</th>\n",
       "    </tr>\n",
       "  </thead>\n",
       "  <tbody>\n",
       "    <tr>\n",
       "      <th>0</th>\n",
       "      <td>Seaview and Big Springs Trails Loop</td>\n",
       "      <td>moderate</td>\n",
       "      <td>2447</td>\n",
       "      <td>4.3</td>\n",
       "      <td>984</td>\n",
       "      <td>Dog-friendly,Kid-friendly,Hiking,Horseback-rid...</td>\n",
       "      <td>12</td>\n",
       "      <td>Berkeley</td>\n",
       "      <td>top</td>\n",
       "      <td>37.9006, -122.24968</td>\n",
       "    </tr>\n",
       "    <tr>\n",
       "      <th>1</th>\n",
       "      <td>Panoramic Hill, Chaparral Peak and Strawberry ...</td>\n",
       "      <td>hard</td>\n",
       "      <td>1558</td>\n",
       "      <td>6.2</td>\n",
       "      <td>1515</td>\n",
       "      <td>Dog-friendly,Hiking,Nature-trips,Bird-watching...</td>\n",
       "      <td>10</td>\n",
       "      <td>Berkeley</td>\n",
       "      <td>top</td>\n",
       "      <td>37.8627, -122.24408</td>\n",
       "    </tr>\n",
       "    <tr>\n",
       "      <th>2</th>\n",
       "      <td>Wildcat Gorge, Meadows Canyon and Curran Trail</td>\n",
       "      <td>moderate</td>\n",
       "      <td>1583</td>\n",
       "      <td>3.3</td>\n",
       "      <td>498</td>\n",
       "      <td>Dog-friendly,Kid-friendly,Hiking,Horseback-rid...</td>\n",
       "      <td>12</td>\n",
       "      <td>Berkeley</td>\n",
       "      <td>top</td>\n",
       "      <td>37.89572, -122.25213</td>\n",
       "    </tr>\n",
       "    <tr>\n",
       "      <th>3</th>\n",
       "      <td>Strawberry Canyon Fire Trail</td>\n",
       "      <td>moderate</td>\n",
       "      <td>1161</td>\n",
       "      <td>7.4</td>\n",
       "      <td>777</td>\n",
       "      <td>Dog-friendly,Kid-friendly,Hiking,Walking,Runni...</td>\n",
       "      <td>7</td>\n",
       "      <td>Berkeley</td>\n",
       "      <td>top</td>\n",
       "      <td>37.87251, -122.24178</td>\n",
       "    </tr>\n",
       "    <tr>\n",
       "      <th>4</th>\n",
       "      <td>Upper and Lower Big Springs and Seaview Trails</td>\n",
       "      <td>moderate</td>\n",
       "      <td>1397</td>\n",
       "      <td>2.9</td>\n",
       "      <td>652</td>\n",
       "      <td>Dogs-on-leash,Kid-friendly,Hiking,Mountain-bik...</td>\n",
       "      <td>5</td>\n",
       "      <td>Berkeley</td>\n",
       "      <td>top</td>\n",
       "      <td>37.89035, -122.23651</td>\n",
       "    </tr>\n",
       "  </tbody>\n",
       "</table>\n",
       "</div>"
      ],
      "text/plain": [
       "                                                name difficulty completion  \\\n",
       "0                Seaview and Big Springs Trails Loop   moderate       2447   \n",
       "1  Panoramic Hill, Chaparral Peak and Strawberry ...       hard       1558   \n",
       "2     Wildcat Gorge, Meadows Canyon and Curran Trail   moderate       1583   \n",
       "3                       Strawberry Canyon Fire Trail   moderate       1161   \n",
       "4     Upper and Lower Big Springs and Seaview Trails   moderate       1397   \n",
       "\n",
       "   length  elevation_gain                                               tags  \\\n",
       "0     4.3             984  Dog-friendly,Kid-friendly,Hiking,Horseback-rid...   \n",
       "1     6.2            1515  Dog-friendly,Hiking,Nature-trips,Bird-watching...   \n",
       "2     3.3             498  Dog-friendly,Kid-friendly,Hiking,Horseback-rid...   \n",
       "3     7.4             777  Dog-friendly,Kid-friendly,Hiking,Walking,Runni...   \n",
       "4     2.9             652  Dogs-on-leash,Kid-friendly,Hiking,Mountain-bik...   \n",
       "\n",
       "   NumberTags      city rankCat              location  \n",
       "0          12  Berkeley     top   37.9006, -122.24968  \n",
       "1          10  Berkeley     top   37.8627, -122.24408  \n",
       "2          12  Berkeley     top  37.89572, -122.25213  \n",
       "3           7  Berkeley     top  37.87251, -122.24178  \n",
       "4           5  Berkeley     top  37.89035, -122.23651  "
      ]
     },
     "execution_count": 57,
     "metadata": {},
     "output_type": "execute_result"
    }
   ],
   "source": [
    "topfiveberk"
   ]
  },
  {
   "cell_type": "code",
   "execution_count": 58,
   "metadata": {},
   "outputs": [
    {
     "data": {
      "text/html": [
       "<div>\n",
       "<style scoped>\n",
       "    .dataframe tbody tr th:only-of-type {\n",
       "        vertical-align: middle;\n",
       "    }\n",
       "\n",
       "    .dataframe tbody tr th {\n",
       "        vertical-align: top;\n",
       "    }\n",
       "\n",
       "    .dataframe thead th {\n",
       "        text-align: right;\n",
       "    }\n",
       "</style>\n",
       "<table border=\"1\" class=\"dataframe\">\n",
       "  <thead>\n",
       "    <tr style=\"text-align: right;\">\n",
       "      <th></th>\n",
       "      <th>name</th>\n",
       "      <th>difficulty</th>\n",
       "      <th>completion</th>\n",
       "      <th>length</th>\n",
       "      <th>elevation_gain</th>\n",
       "      <th>tags</th>\n",
       "      <th>NumberTags</th>\n",
       "      <th>city</th>\n",
       "      <th>rankCat</th>\n",
       "      <th>location</th>\n",
       "    </tr>\n",
       "  </thead>\n",
       "  <tbody>\n",
       "    <tr>\n",
       "      <th>0</th>\n",
       "      <td>Pine Tree Trail and Laurel Canyon Loop</td>\n",
       "      <td>moderate</td>\n",
       "      <td>38</td>\n",
       "      <td>1.5</td>\n",
       "      <td>288</td>\n",
       "      <td>Kid-friendly,Hiking,Nature-trips,Running,Fores...</td>\n",
       "      <td>9</td>\n",
       "      <td>Berkeley</td>\n",
       "      <td>bottom</td>\n",
       "      <td>37.90899, -122.26517</td>\n",
       "    </tr>\n",
       "    <tr>\n",
       "      <th>1</th>\n",
       "      <td>Wildcat Canyon, El Toyonal, Lomas Contadas, an...</td>\n",
       "      <td>moderate</td>\n",
       "      <td>10</td>\n",
       "      <td>16.6</td>\n",
       "      <td>1916</td>\n",
       "      <td>Nature-trips,Road-biking,Forest,Paved,Views,Wi...</td>\n",
       "      <td>7</td>\n",
       "      <td>Berkeley</td>\n",
       "      <td>bottom</td>\n",
       "      <td>37.87515, -122.26017</td>\n",
       "    </tr>\n",
       "    <tr>\n",
       "      <th>2</th>\n",
       "      <td>Wildcat Canyon and South Park Cycling Route</td>\n",
       "      <td>moderate</td>\n",
       "      <td>15</td>\n",
       "      <td>10.3</td>\n",
       "      <td>1515</td>\n",
       "      <td>Nature-trips,Road-biking,Forest,Paved,Views,Wi...</td>\n",
       "      <td>7</td>\n",
       "      <td>Berkeley</td>\n",
       "      <td>bottom</td>\n",
       "      <td>37.8751, -122.26007</td>\n",
       "    </tr>\n",
       "    <tr>\n",
       "      <th>3</th>\n",
       "      <td>East Bay Hills Cycle Route</td>\n",
       "      <td>hard</td>\n",
       "      <td>4</td>\n",
       "      <td>39.6</td>\n",
       "      <td>4517</td>\n",
       "      <td>Mountain-biking,Forest,Lake,Partially-paved,Views</td>\n",
       "      <td>5</td>\n",
       "      <td>Berkeley</td>\n",
       "      <td>bottom</td>\n",
       "      <td>37.88182, -122.27111</td>\n",
       "    </tr>\n",
       "    <tr>\n",
       "      <th>4</th>\n",
       "      <td>Observatory Hill, Lake Chabot and Claremont Ca...</td>\n",
       "      <td>moderate</td>\n",
       "      <td>1</td>\n",
       "      <td>48.5</td>\n",
       "      <td>4829</td>\n",
       "      <td>Nature-trips,Road-biking,Paved,Views</td>\n",
       "      <td>4</td>\n",
       "      <td>Berkeley</td>\n",
       "      <td>bottom</td>\n",
       "      <td>37.87352, -122.25945</td>\n",
       "    </tr>\n",
       "  </tbody>\n",
       "</table>\n",
       "</div>"
      ],
      "text/plain": [
       "                                                name difficulty completion  \\\n",
       "0             Pine Tree Trail and Laurel Canyon Loop   moderate         38   \n",
       "1  Wildcat Canyon, El Toyonal, Lomas Contadas, an...   moderate         10   \n",
       "2        Wildcat Canyon and South Park Cycling Route   moderate         15   \n",
       "3                         East Bay Hills Cycle Route       hard          4   \n",
       "4  Observatory Hill, Lake Chabot and Claremont Ca...   moderate          1   \n",
       "\n",
       "   length  elevation_gain                                               tags  \\\n",
       "0     1.5             288  Kid-friendly,Hiking,Nature-trips,Running,Fores...   \n",
       "1    16.6            1916  Nature-trips,Road-biking,Forest,Paved,Views,Wi...   \n",
       "2    10.3            1515  Nature-trips,Road-biking,Forest,Paved,Views,Wi...   \n",
       "3    39.6            4517  Mountain-biking,Forest,Lake,Partially-paved,Views   \n",
       "4    48.5            4829               Nature-trips,Road-biking,Paved,Views   \n",
       "\n",
       "   NumberTags      city rankCat              location  \n",
       "0           9  Berkeley  bottom  37.90899, -122.26517  \n",
       "1           7  Berkeley  bottom  37.87515, -122.26017  \n",
       "2           7  Berkeley  bottom   37.8751, -122.26007  \n",
       "3           5  Berkeley  bottom  37.88182, -122.27111  \n",
       "4           4  Berkeley  bottom  37.87352, -122.25945  "
      ]
     },
     "execution_count": 58,
     "metadata": {},
     "output_type": "execute_result"
    }
   ],
   "source": [
    "botfiveberk"
   ]
  },
  {
   "cell_type": "code",
   "execution_count": 59,
   "metadata": {},
   "outputs": [],
   "source": [
    "topfiveberk.to_pickle(\"topfiveberk.pkl\")\n",
    "botfiveberk.to_pickle(\"botfiveberk.pkl\")"
   ]
  },
  {
   "cell_type": "markdown",
   "metadata": {},
   "source": [
    "### Trails for Pacifica"
   ]
  },
  {
   "cell_type": "code",
   "execution_count": 64,
   "metadata": {},
   "outputs": [],
   "source": [
    "browser.get(\"https://www.alltrails.com/us/california/pacifica\")"
   ]
  },
  {
   "cell_type": "code",
   "execution_count": 61,
   "metadata": {},
   "outputs": [],
   "source": [
    "link_span = browser.find_elements_by_xpath(\"//div[@class='styles-module__containerDescriptive___3aZqQ styles-module__trailCard___2oHiP']/a\")\n",
    "pac_links = [link.get_attribute('href') for link in link_span]"
   ]
  },
  {
   "cell_type": "code",
   "execution_count": 62,
   "metadata": {},
   "outputs": [
    {
     "name": "stdout",
     "output_type": "stream",
     "text": [
      "done sleeping\n",
      "done sleeping\n",
      "done sleeping\n",
      "done sleeping\n",
      "done sleeping\n"
     ]
    }
   ],
   "source": [
    "pactop5Coords = get_coords(pac_links[:5])"
   ]
  },
  {
   "cell_type": "code",
   "execution_count": 67,
   "metadata": {},
   "outputs": [
    {
     "name": "stdout",
     "output_type": "stream",
     "text": [
      "done sleeping\n",
      "done sleeping\n",
      "done sleeping\n",
      "done sleeping\n",
      "done sleeping\n"
     ]
    }
   ],
   "source": [
    "pacbot5Coords = get_coords(pac_links[22:27])"
   ]
  },
  {
   "cell_type": "code",
   "execution_count": 71,
   "metadata": {},
   "outputs": [
    {
     "data": {
      "text/plain": [
       "['37.57891, -122.4746',\n",
       " '37.57891, -122.47459',\n",
       " '37.59328, -122.50601',\n",
       " '37.59699, -122.50387']"
      ]
     },
     "execution_count": 71,
     "metadata": {},
     "output_type": "execute_result"
    }
   ],
   "source": [
    "pacbot5Coords"
   ]
  },
  {
   "cell_type": "code",
   "execution_count": 76,
   "metadata": {},
   "outputs": [
    {
     "name": "stdout",
     "output_type": "stream",
     "text": [
      "done sleeping\n"
     ]
    }
   ],
   "source": [
    "pacbot5Coords.insert(3,get_coords_by_link(pac_links[25], icon_src))"
   ]
  },
  {
   "cell_type": "code",
   "execution_count": 80,
   "metadata": {},
   "outputs": [],
   "source": [
    "browser.get(pac_links[1])"
   ]
  },
  {
   "cell_type": "code",
   "execution_count": 81,
   "metadata": {},
   "outputs": [
    {
     "name": "stdout",
     "output_type": "stream",
     "text": [
      "done sleeping\n"
     ]
    }
   ],
   "source": [
    "pactop5Coords.insert(0,get_coords_by_link(pac_links[0], icon_src))"
   ]
  },
  {
   "cell_type": "code",
   "execution_count": 82,
   "metadata": {},
   "outputs": [
    {
     "data": {
      "text/plain": [
       "['37.61413, -122.48807',\n",
       " '37.57837, -122.47549',\n",
       " '37.56294, -122.51261',\n",
       " '37.58492, -122.50778',\n",
       " '37.61735, -122.48322']"
      ]
     },
     "execution_count": 82,
     "metadata": {},
     "output_type": "execute_result"
    }
   ],
   "source": [
    "pactop5Coords"
   ]
  },
  {
   "cell_type": "code",
   "execution_count": 83,
   "metadata": {},
   "outputs": [],
   "source": [
    "top_five_pac = list(map(lambda link: get_data(link), pac_links[:5]))"
   ]
  },
  {
   "cell_type": "code",
   "execution_count": 85,
   "metadata": {},
   "outputs": [],
   "source": [
    "bot_five_pac = list(map(lambda link: get_data(link), pac_links[22:27]))"
   ]
  },
  {
   "cell_type": "code",
   "execution_count": 87,
   "metadata": {},
   "outputs": [],
   "source": [
    "topfivepac = pd.DataFrame(top_five_pac, columns = col_names, index = list(range(5)))\n",
    "botfivepac = pd.DataFrame(bot_five_pac, columns = col_names, index = list(range(5)))\n",
    "\n",
    "topfivepac['NumberTags'] = topfivepac['tags'].apply(get_num_tags)\n",
    "topfivepac['city'] = \"Pacifica\"\n",
    "topfivepac['rankCat'] = \"top\"\n",
    "topfivepac['location'] = pactop5Coords\n",
    "\n",
    "botfivepac['NumberTags'] = botfivepac['tags'].apply(get_num_tags)\n",
    "botfivepac['city'] = \"Pacifica\"\n",
    "botfivepac['rankCat'] = \"bottom\"\n",
    "botfivepac['location'] = pacbot5Coords"
   ]
  },
  {
   "cell_type": "code",
   "execution_count": 88,
   "metadata": {},
   "outputs": [
    {
     "data": {
      "text/html": [
       "<div>\n",
       "<style scoped>\n",
       "    .dataframe tbody tr th:only-of-type {\n",
       "        vertical-align: middle;\n",
       "    }\n",
       "\n",
       "    .dataframe tbody tr th {\n",
       "        vertical-align: top;\n",
       "    }\n",
       "\n",
       "    .dataframe thead th {\n",
       "        text-align: right;\n",
       "    }\n",
       "</style>\n",
       "<table border=\"1\" class=\"dataframe\">\n",
       "  <thead>\n",
       "    <tr style=\"text-align: right;\">\n",
       "      <th></th>\n",
       "      <th>name</th>\n",
       "      <th>difficulty</th>\n",
       "      <th>completion</th>\n",
       "      <th>length</th>\n",
       "      <th>elevation_gain</th>\n",
       "      <th>tags</th>\n",
       "      <th>NumberTags</th>\n",
       "      <th>city</th>\n",
       "      <th>rankCat</th>\n",
       "      <th>location</th>\n",
       "    </tr>\n",
       "  </thead>\n",
       "  <tbody>\n",
       "    <tr>\n",
       "      <th>0</th>\n",
       "      <td>Mori Point Loop Trail</td>\n",
       "      <td>moderate</td>\n",
       "      <td>1656</td>\n",
       "      <td>2.5</td>\n",
       "      <td>396</td>\n",
       "      <td>Dogs-on-leash,Kid-friendly,Hiking,Nature-trips...</td>\n",
       "      <td>13</td>\n",
       "      <td>Pacifica</td>\n",
       "      <td>top</td>\n",
       "      <td>37.61413, -122.48807</td>\n",
       "    </tr>\n",
       "    <tr>\n",
       "      <th>1</th>\n",
       "      <td>Montara Mountain Trail</td>\n",
       "      <td>moderate</td>\n",
       "      <td>1437</td>\n",
       "      <td>6.4</td>\n",
       "      <td>1725</td>\n",
       "      <td>Hiking,Horseback-riding,Nature-trips,Bird-watc...</td>\n",
       "      <td>10</td>\n",
       "      <td>Pacifica</td>\n",
       "      <td>top</td>\n",
       "      <td>37.57837, -122.47549</td>\n",
       "    </tr>\n",
       "    <tr>\n",
       "      <th>2</th>\n",
       "      <td>Gray Whale Cove Trail</td>\n",
       "      <td>easy</td>\n",
       "      <td>986</td>\n",
       "      <td>2.2</td>\n",
       "      <td>269</td>\n",
       "      <td>Dog-friendly,Kid-friendly,Hiking,Nature-trips,...</td>\n",
       "      <td>10</td>\n",
       "      <td>Pacifica</td>\n",
       "      <td>top</td>\n",
       "      <td>37.56294, -122.51261</td>\n",
       "    </tr>\n",
       "    <tr>\n",
       "      <th>3</th>\n",
       "      <td>Pedro Point Headlands Trail</td>\n",
       "      <td>moderate</td>\n",
       "      <td>613</td>\n",
       "      <td>2.4</td>\n",
       "      <td>610</td>\n",
       "      <td>Dog-friendly,Hiking,Nature-trips,Walking,Bird-...</td>\n",
       "      <td>9</td>\n",
       "      <td>Pacifica</td>\n",
       "      <td>top</td>\n",
       "      <td>37.58492, -122.50778</td>\n",
       "    </tr>\n",
       "    <tr>\n",
       "      <th>4</th>\n",
       "      <td>Sweeney Ridge Trail via Mori Ridge</td>\n",
       "      <td>moderate</td>\n",
       "      <td>1091</td>\n",
       "      <td>4.6</td>\n",
       "      <td>1085</td>\n",
       "      <td>Dogs-on-leash,Hiking,Mountain-biking,Nature-tr...</td>\n",
       "      <td>11</td>\n",
       "      <td>Pacifica</td>\n",
       "      <td>top</td>\n",
       "      <td>37.61735, -122.48322</td>\n",
       "    </tr>\n",
       "  </tbody>\n",
       "</table>\n",
       "</div>"
      ],
      "text/plain": [
       "                                 name difficulty completion  length  \\\n",
       "0               Mori Point Loop Trail   moderate       1656     2.5   \n",
       "1              Montara Mountain Trail   moderate       1437     6.4   \n",
       "2               Gray Whale Cove Trail       easy        986     2.2   \n",
       "3         Pedro Point Headlands Trail   moderate        613     2.4   \n",
       "4  Sweeney Ridge Trail via Mori Ridge   moderate       1091     4.6   \n",
       "\n",
       "   elevation_gain                                               tags  \\\n",
       "0             396  Dogs-on-leash,Kid-friendly,Hiking,Nature-trips...   \n",
       "1            1725  Hiking,Horseback-riding,Nature-trips,Bird-watc...   \n",
       "2             269  Dog-friendly,Kid-friendly,Hiking,Nature-trips,...   \n",
       "3             610  Dog-friendly,Hiking,Nature-trips,Walking,Bird-...   \n",
       "4            1085  Dogs-on-leash,Hiking,Mountain-biking,Nature-tr...   \n",
       "\n",
       "   NumberTags      city rankCat              location  \n",
       "0          13  Pacifica     top  37.61413, -122.48807  \n",
       "1          10  Pacifica     top  37.57837, -122.47549  \n",
       "2          10  Pacifica     top  37.56294, -122.51261  \n",
       "3           9  Pacifica     top  37.58492, -122.50778  \n",
       "4          11  Pacifica     top  37.61735, -122.48322  "
      ]
     },
     "execution_count": 88,
     "metadata": {},
     "output_type": "execute_result"
    }
   ],
   "source": [
    "topfivepac"
   ]
  },
  {
   "cell_type": "code",
   "execution_count": 89,
   "metadata": {},
   "outputs": [
    {
     "data": {
      "text/html": [
       "<div>\n",
       "<style scoped>\n",
       "    .dataframe tbody tr th:only-of-type {\n",
       "        vertical-align: middle;\n",
       "    }\n",
       "\n",
       "    .dataframe tbody tr th {\n",
       "        vertical-align: top;\n",
       "    }\n",
       "\n",
       "    .dataframe thead th {\n",
       "        text-align: right;\n",
       "    }\n",
       "</style>\n",
       "<table border=\"1\" class=\"dataframe\">\n",
       "  <thead>\n",
       "    <tr style=\"text-align: right;\">\n",
       "      <th></th>\n",
       "      <th>name</th>\n",
       "      <th>difficulty</th>\n",
       "      <th>completion</th>\n",
       "      <th>length</th>\n",
       "      <th>elevation_gain</th>\n",
       "      <th>tags</th>\n",
       "      <th>NumberTags</th>\n",
       "      <th>city</th>\n",
       "      <th>rankCat</th>\n",
       "      <th>location</th>\n",
       "    </tr>\n",
       "  </thead>\n",
       "  <tbody>\n",
       "    <tr>\n",
       "      <th>0</th>\n",
       "      <td>Valley View Trail Loop</td>\n",
       "      <td>moderate</td>\n",
       "      <td>172</td>\n",
       "      <td>1.9</td>\n",
       "      <td>433</td>\n",
       "      <td>Kid-friendly,Hiking,Nature-trips,Walking,Bird-...</td>\n",
       "      <td>9</td>\n",
       "      <td>Pacifica</td>\n",
       "      <td>bottom</td>\n",
       "      <td>37.57891, -122.4746</td>\n",
       "    </tr>\n",
       "    <tr>\n",
       "      <th>1</th>\n",
       "      <td>Weiler Ranch Road Trail</td>\n",
       "      <td>easy</td>\n",
       "      <td>319</td>\n",
       "      <td>1.9</td>\n",
       "      <td>134</td>\n",
       "      <td>Kid-friendly,Hiking,Mountain-biking,Walking,Ru...</td>\n",
       "      <td>10</td>\n",
       "      <td>Pacifica</td>\n",
       "      <td>bottom</td>\n",
       "      <td>37.57891, -122.47459</td>\n",
       "    </tr>\n",
       "    <tr>\n",
       "      <th>2</th>\n",
       "      <td>Pedro Point Headlands Trail</td>\n",
       "      <td>easy</td>\n",
       "      <td>60</td>\n",
       "      <td>1.4</td>\n",
       "      <td>521</td>\n",
       "      <td>Kid-friendly,Hiking,Walking,Running,Views,Wild...</td>\n",
       "      <td>6</td>\n",
       "      <td>Pacifica</td>\n",
       "      <td>bottom</td>\n",
       "      <td>37.59328, -122.50601</td>\n",
       "    </tr>\n",
       "    <tr>\n",
       "      <th>3</th>\n",
       "      <td>The Mile to San Pedro Mountain Trail to Burnside</td>\n",
       "      <td>moderate</td>\n",
       "      <td>80</td>\n",
       "      <td>3.7</td>\n",
       "      <td>1276</td>\n",
       "      <td>Dogs-on-leash,Hiking,Mountain-biking,Running,V...</td>\n",
       "      <td>6</td>\n",
       "      <td>Pacifica</td>\n",
       "      <td>bottom</td>\n",
       "      <td>37.58303, -122.4975</td>\n",
       "    </tr>\n",
       "    <tr>\n",
       "      <th>4</th>\n",
       "      <td>San Pedro Beach to Devil's Slide</td>\n",
       "      <td>moderate</td>\n",
       "      <td>26</td>\n",
       "      <td>6.7</td>\n",
       "      <td>1115</td>\n",
       "      <td>Hiking,Walking,Bird-watching,Running,Beach,Vie...</td>\n",
       "      <td>8</td>\n",
       "      <td>Pacifica</td>\n",
       "      <td>bottom</td>\n",
       "      <td>37.59699, -122.50387</td>\n",
       "    </tr>\n",
       "  </tbody>\n",
       "</table>\n",
       "</div>"
      ],
      "text/plain": [
       "                                               name difficulty completion  \\\n",
       "0                            Valley View Trail Loop   moderate        172   \n",
       "1                           Weiler Ranch Road Trail       easy        319   \n",
       "2                       Pedro Point Headlands Trail       easy         60   \n",
       "3  The Mile to San Pedro Mountain Trail to Burnside   moderate         80   \n",
       "4                  San Pedro Beach to Devil's Slide   moderate         26   \n",
       "\n",
       "   length  elevation_gain                                               tags  \\\n",
       "0     1.9             433  Kid-friendly,Hiking,Nature-trips,Walking,Bird-...   \n",
       "1     1.9             134  Kid-friendly,Hiking,Mountain-biking,Walking,Ru...   \n",
       "2     1.4             521  Kid-friendly,Hiking,Walking,Running,Views,Wild...   \n",
       "3     3.7            1276  Dogs-on-leash,Hiking,Mountain-biking,Running,V...   \n",
       "4     6.7            1115  Hiking,Walking,Bird-watching,Running,Beach,Vie...   \n",
       "\n",
       "   NumberTags      city rankCat              location  \n",
       "0           9  Pacifica  bottom   37.57891, -122.4746  \n",
       "1          10  Pacifica  bottom  37.57891, -122.47459  \n",
       "2           6  Pacifica  bottom  37.59328, -122.50601  \n",
       "3           6  Pacifica  bottom   37.58303, -122.4975  \n",
       "4           8  Pacifica  bottom  37.59699, -122.50387  "
      ]
     },
     "execution_count": 89,
     "metadata": {},
     "output_type": "execute_result"
    }
   ],
   "source": [
    "botfivepac"
   ]
  },
  {
   "cell_type": "markdown",
   "metadata": {},
   "source": [
    "### Trails for Walnut Creek"
   ]
  },
  {
   "cell_type": "code",
   "execution_count": 8,
   "metadata": {},
   "outputs": [],
   "source": [
    "browser.get(\"https://www.alltrails.com/us/california/walnut-creek\")"
   ]
  },
  {
   "cell_type": "code",
   "execution_count": 10,
   "metadata": {},
   "outputs": [],
   "source": [
    "link_span = browser.find_elements_by_xpath(\"//div[@class='styles-module__containerDescriptive___3aZqQ styles-module__trailCard___2oHiP']/a\")\n",
    "wal_links = [link.get_attribute('href') for link in link_span]"
   ]
  },
  {
   "cell_type": "code",
   "execution_count": 14,
   "metadata": {},
   "outputs": [
    {
     "name": "stdout",
     "output_type": "stream",
     "text": [
      "done sleeping\n",
      "done sleeping\n",
      "done sleeping\n",
      "done sleeping\n",
      "done sleeping\n"
     ]
    }
   ],
   "source": [
    "waltop5Coords = get_coords(wal_links[:5])"
   ]
  },
  {
   "cell_type": "code",
   "execution_count": 18,
   "metadata": {},
   "outputs": [
    {
     "name": "stdout",
     "output_type": "stream",
     "text": [
      "done sleeping\n",
      "done sleeping\n",
      "done sleeping\n",
      "done sleeping\n",
      "done sleeping\n"
     ]
    }
   ],
   "source": [
    "walbot5Coords = get_coords(wal_links[38:])"
   ]
  },
  {
   "cell_type": "code",
   "execution_count": 20,
   "metadata": {},
   "outputs": [],
   "source": [
    "top_five_wal = list(map(lambda link: get_data(link), wal_links[:5]))"
   ]
  },
  {
   "cell_type": "code",
   "execution_count": 22,
   "metadata": {},
   "outputs": [],
   "source": [
    "bot_five_wal = list(map(lambda link: get_data(link), wal_links[38:]))"
   ]
  },
  {
   "cell_type": "code",
   "execution_count": 23,
   "metadata": {},
   "outputs": [],
   "source": [
    "topfivewal = pd.DataFrame(top_five_wal, columns = col_names, index = list(range(5)))\n",
    "botfivewal = pd.DataFrame(bot_five_wal, columns = col_names, index = list(range(5)))\n",
    "\n",
    "topfivewal['NumberTags'] = topfivewal['tags'].apply(get_num_tags)\n",
    "topfivewal['city'] = \"Walnut Creek\"\n",
    "topfivewal['rankCat'] = \"top\"\n",
    "topfivewal['location'] = waltop5Coords\n",
    "\n",
    "botfivewal['NumberTags'] = botfivewal['tags'].apply(get_num_tags)\n",
    "botfivewal['city'] = \"Walnut Creek\"\n",
    "botfivewal['rankCat'] = \"bottom\"\n",
    "botfivewal['location'] = walbot5Coords"
   ]
  },
  {
   "cell_type": "code",
   "execution_count": 24,
   "metadata": {},
   "outputs": [],
   "source": [
    "topfivewal.to_pickle('topfivewal.pkl')\n",
    "botfivewal.to_pickle('botfivewal.pkl')"
   ]
  },
  {
   "cell_type": "markdown",
   "metadata": {},
   "source": [
    "### Trails for Santa Rosa"
   ]
  },
  {
   "cell_type": "code",
   "execution_count": 25,
   "metadata": {},
   "outputs": [],
   "source": [
    "browser.get(\"https://www.alltrails.com/us/california/santa-rosa\")"
   ]
  },
  {
   "cell_type": "code",
   "execution_count": 26,
   "metadata": {},
   "outputs": [],
   "source": [
    "link_span = browser.find_elements_by_xpath(\"//div[@class='styles-module__containerDescriptive___3aZqQ styles-module__trailCard___2oHiP']/a\")\n",
    "sr_links = [link.get_attribute('href') for link in link_span]"
   ]
  },
  {
   "cell_type": "code",
   "execution_count": 27,
   "metadata": {},
   "outputs": [
    {
     "name": "stdout",
     "output_type": "stream",
     "text": [
      "done sleeping\n",
      "done sleeping\n",
      "done sleeping\n",
      "done sleeping\n",
      "done sleeping\n"
     ]
    }
   ],
   "source": [
    "srtop5Coords = get_coords(sr_links[:5])"
   ]
  },
  {
   "cell_type": "code",
   "execution_count": 33,
   "metadata": {},
   "outputs": [
    {
     "name": "stdout",
     "output_type": "stream",
     "text": [
      "done sleeping\n",
      "done sleeping\n",
      "done sleeping\n",
      "done sleeping\n",
      "done sleeping\n"
     ]
    }
   ],
   "source": [
    "srbot5Coords = get_coords(sr_links[44:])"
   ]
  },
  {
   "cell_type": "code",
   "execution_count": 36,
   "metadata": {},
   "outputs": [
    {
     "name": "stdout",
     "output_type": "stream",
     "text": [
      "done sleeping\n"
     ]
    }
   ],
   "source": [
    "srbot5Coords.insert(4, get_coords_by_link(sr_links[48], alt_icon_src))"
   ]
  },
  {
   "cell_type": "code",
   "execution_count": 37,
   "metadata": {},
   "outputs": [],
   "source": [
    "top_five_sr = list(map(lambda link: get_data(link), sr_links[:5]))"
   ]
  },
  {
   "cell_type": "code",
   "execution_count": 38,
   "metadata": {},
   "outputs": [],
   "source": [
    "bot_five_sr = list(map(lambda link: get_data(link), sr_links[44:]))"
   ]
  },
  {
   "cell_type": "code",
   "execution_count": 39,
   "metadata": {},
   "outputs": [],
   "source": [
    "topfivesr = pd.DataFrame(top_five_sr, columns = col_names, index = list(range(5)))\n",
    "botfivesr = pd.DataFrame(bot_five_sr, columns = col_names, index = list(range(5)))\n",
    "\n",
    "topfivesr['NumberTags'] = topfivesr['tags'].apply(get_num_tags)\n",
    "topfivesr['city'] = \"Santa Rosa\"\n",
    "topfivesr['rankCat'] = \"top\"\n",
    "topfivesr['location'] = srtop5Coords\n",
    "\n",
    "botfivesr['NumberTags'] = botfivesr['tags'].apply(get_num_tags)\n",
    "botfivesr['city'] = \"Santa Rosa\"\n",
    "botfivesr['rankCat'] = \"bottom\"\n",
    "botfivesr['location'] = srbot5Coords"
   ]
  },
  {
   "cell_type": "code",
   "execution_count": 42,
   "metadata": {},
   "outputs": [],
   "source": [
    "topfivesr.to_pickle('topfivesr.pkl')\n",
    "botfivesr.to_pickle('botfivesr.pkl')"
   ]
  },
  {
   "cell_type": "code",
   "execution_count": 69,
   "metadata": {},
   "outputs": [],
   "source": [
    "test = df.head().copy()"
   ]
  },
  {
   "cell_type": "code",
   "execution_count": 77,
   "metadata": {},
   "outputs": [],
   "source": [
    "dogs, paved, kf, hk, hr, *other = suitability_tags"
   ]
  },
  {
   "cell_type": "code",
   "execution_count": 61,
   "metadata": {},
   "outputs": [],
   "source": [
    "def contain_tag(trail, tag):\n",
    "    return tag in trail"
   ]
  },
  {
   "cell_type": "code",
   "execution_count": 78,
   "metadata": {},
   "outputs": [],
   "source": [
    "test['dogs'] = test['tags'].apply(contain_tag, tag = dogs)\n",
    "test['paved'] = test['tags'].apply(contain_tag, tag = paved)\n",
    "test['hr'] = test['tags'].apply(contain_tag, tag = hr)"
   ]
  },
  {
   "cell_type": "code",
   "execution_count": 88,
   "metadata": {},
   "outputs": [],
   "source": [
    "for tag_name in suitability_tags:\n",
    "    df[tag_name] = df['tags'].apply(contain_tag, tag = tag_name)"
   ]
  },
  {
   "cell_type": "code",
   "execution_count": 90,
   "metadata": {},
   "outputs": [],
   "source": [
    "for tag_name in attraction_tags:\n",
    "    df[tag_name] = df['tags'].apply(contain_tag, tag = tag_name)"
   ]
  },
  {
   "cell_type": "code",
   "execution_count": 92,
   "metadata": {},
   "outputs": [],
   "source": [
    "for tag_name in activity_tags:\n",
    "    df[tag_name] = df['tags'].apply(contain_tag, tag = tag_name)"
   ]
  },
  {
   "cell_type": "code",
   "execution_count": 93,
   "metadata": {},
   "outputs": [
    {
     "data": {
      "text/html": [
       "<div>\n",
       "<style scoped>\n",
       "    .dataframe tbody tr th:only-of-type {\n",
       "        vertical-align: middle;\n",
       "    }\n",
       "\n",
       "    .dataframe tbody tr th {\n",
       "        vertical-align: top;\n",
       "    }\n",
       "\n",
       "    .dataframe thead th {\n",
       "        text-align: right;\n",
       "    }\n",
       "</style>\n",
       "<table border=\"1\" class=\"dataframe\">\n",
       "  <thead>\n",
       "    <tr style=\"text-align: right;\">\n",
       "      <th></th>\n",
       "      <th>name</th>\n",
       "      <th>difficulty</th>\n",
       "      <th>completion</th>\n",
       "      <th>length</th>\n",
       "      <th>elevation_gain</th>\n",
       "      <th>tags</th>\n",
       "      <th>NumberTags</th>\n",
       "      <th>city</th>\n",
       "      <th>rankCat</th>\n",
       "      <th>location</th>\n",
       "      <th>...</th>\n",
       "      <th>Paddle-sports</th>\n",
       "      <th>Road-biking</th>\n",
       "      <th>Rock-climbing</th>\n",
       "      <th>Scenic-driving</th>\n",
       "      <th>Snowshoeing</th>\n",
       "      <th>Skiing</th>\n",
       "      <th>Running</th>\n",
       "      <th>X-Country-skiing</th>\n",
       "      <th>Walking</th>\n",
       "      <th>Via-ferrata</th>\n",
       "    </tr>\n",
       "  </thead>\n",
       "  <tbody>\n",
       "    <tr>\n",
       "      <th>0</th>\n",
       "      <td>Seaview and Big Springs Trails Loop</td>\n",
       "      <td>moderate</td>\n",
       "      <td>2447</td>\n",
       "      <td>4.3</td>\n",
       "      <td>984</td>\n",
       "      <td>Dog-friendly,Kid-friendly,Hiking,Horseback-rid...</td>\n",
       "      <td>12</td>\n",
       "      <td>Berkeley</td>\n",
       "      <td>top</td>\n",
       "      <td>37.9006, -122.24968</td>\n",
       "      <td>...</td>\n",
       "      <td>False</td>\n",
       "      <td>False</td>\n",
       "      <td>False</td>\n",
       "      <td>False</td>\n",
       "      <td>False</td>\n",
       "      <td>False</td>\n",
       "      <td>True</td>\n",
       "      <td>False</td>\n",
       "      <td>True</td>\n",
       "      <td>False</td>\n",
       "    </tr>\n",
       "    <tr>\n",
       "      <th>1</th>\n",
       "      <td>Panoramic Hill, Chaparral Peak and Strawberry ...</td>\n",
       "      <td>hard</td>\n",
       "      <td>1558</td>\n",
       "      <td>6.2</td>\n",
       "      <td>1515</td>\n",
       "      <td>Dog-friendly,Hiking,Nature-trips,Bird-watching...</td>\n",
       "      <td>10</td>\n",
       "      <td>Berkeley</td>\n",
       "      <td>top</td>\n",
       "      <td>37.8627, -122.24408</td>\n",
       "      <td>...</td>\n",
       "      <td>False</td>\n",
       "      <td>False</td>\n",
       "      <td>False</td>\n",
       "      <td>False</td>\n",
       "      <td>False</td>\n",
       "      <td>False</td>\n",
       "      <td>True</td>\n",
       "      <td>False</td>\n",
       "      <td>False</td>\n",
       "      <td>False</td>\n",
       "    </tr>\n",
       "    <tr>\n",
       "      <th>2</th>\n",
       "      <td>Wildcat Gorge, Meadows Canyon and Curran Trail</td>\n",
       "      <td>moderate</td>\n",
       "      <td>1583</td>\n",
       "      <td>3.3</td>\n",
       "      <td>498</td>\n",
       "      <td>Dog-friendly,Kid-friendly,Hiking,Horseback-rid...</td>\n",
       "      <td>12</td>\n",
       "      <td>Berkeley</td>\n",
       "      <td>top</td>\n",
       "      <td>37.89572, -122.25213</td>\n",
       "      <td>...</td>\n",
       "      <td>False</td>\n",
       "      <td>False</td>\n",
       "      <td>False</td>\n",
       "      <td>False</td>\n",
       "      <td>False</td>\n",
       "      <td>False</td>\n",
       "      <td>True</td>\n",
       "      <td>False</td>\n",
       "      <td>False</td>\n",
       "      <td>False</td>\n",
       "    </tr>\n",
       "    <tr>\n",
       "      <th>3</th>\n",
       "      <td>Strawberry Canyon Fire Trail</td>\n",
       "      <td>moderate</td>\n",
       "      <td>1161</td>\n",
       "      <td>7.4</td>\n",
       "      <td>777</td>\n",
       "      <td>Dog-friendly,Kid-friendly,Hiking,Walking,Runni...</td>\n",
       "      <td>7</td>\n",
       "      <td>Berkeley</td>\n",
       "      <td>top</td>\n",
       "      <td>37.87251, -122.24178</td>\n",
       "      <td>...</td>\n",
       "      <td>False</td>\n",
       "      <td>False</td>\n",
       "      <td>False</td>\n",
       "      <td>False</td>\n",
       "      <td>False</td>\n",
       "      <td>False</td>\n",
       "      <td>True</td>\n",
       "      <td>False</td>\n",
       "      <td>True</td>\n",
       "      <td>False</td>\n",
       "    </tr>\n",
       "    <tr>\n",
       "      <th>4</th>\n",
       "      <td>Upper and Lower Big Springs and Seaview Trails</td>\n",
       "      <td>moderate</td>\n",
       "      <td>1397</td>\n",
       "      <td>2.9</td>\n",
       "      <td>652</td>\n",
       "      <td>Dogs-on-leash,Kid-friendly,Hiking,Mountain-bik...</td>\n",
       "      <td>5</td>\n",
       "      <td>Berkeley</td>\n",
       "      <td>top</td>\n",
       "      <td>37.89035, -122.23651</td>\n",
       "      <td>...</td>\n",
       "      <td>False</td>\n",
       "      <td>False</td>\n",
       "      <td>False</td>\n",
       "      <td>False</td>\n",
       "      <td>False</td>\n",
       "      <td>False</td>\n",
       "      <td>True</td>\n",
       "      <td>False</td>\n",
       "      <td>False</td>\n",
       "      <td>False</td>\n",
       "    </tr>\n",
       "    <tr>\n",
       "      <th>...</th>\n",
       "      <td>...</td>\n",
       "      <td>...</td>\n",
       "      <td>...</td>\n",
       "      <td>...</td>\n",
       "      <td>...</td>\n",
       "      <td>...</td>\n",
       "      <td>...</td>\n",
       "      <td>...</td>\n",
       "      <td>...</td>\n",
       "      <td>...</td>\n",
       "      <td>...</td>\n",
       "      <td>...</td>\n",
       "      <td>...</td>\n",
       "      <td>...</td>\n",
       "      <td>...</td>\n",
       "      <td>...</td>\n",
       "      <td>...</td>\n",
       "      <td>...</td>\n",
       "      <td>...</td>\n",
       "      <td>...</td>\n",
       "      <td>...</td>\n",
       "    </tr>\n",
       "    <tr>\n",
       "      <th>0</th>\n",
       "      <td>Mount Diablo via Wall Point Road and Summit Tr...</td>\n",
       "      <td>hard</td>\n",
       "      <td>82</td>\n",
       "      <td>13.8</td>\n",
       "      <td>3490</td>\n",
       "      <td>Hiking,Views,Closed,No-dogs</td>\n",
       "      <td>4</td>\n",
       "      <td>Walnut Creek</td>\n",
       "      <td>bottom</td>\n",
       "      <td>37.86249, -121.97916</td>\n",
       "      <td>...</td>\n",
       "      <td>False</td>\n",
       "      <td>False</td>\n",
       "      <td>False</td>\n",
       "      <td>False</td>\n",
       "      <td>False</td>\n",
       "      <td>False</td>\n",
       "      <td>False</td>\n",
       "      <td>False</td>\n",
       "      <td>False</td>\n",
       "      <td>False</td>\n",
       "    </tr>\n",
       "    <tr>\n",
       "      <th>1</th>\n",
       "      <td>Diablo Foothills Crests and Creeks [CLOSED]</td>\n",
       "      <td>moderate</td>\n",
       "      <td>22</td>\n",
       "      <td>13.0</td>\n",
       "      <td>2440</td>\n",
       "      <td>Hiking,Nature-trips,Bird-watching,Views,Wild-f...</td>\n",
       "      <td>7</td>\n",
       "      <td>Walnut Creek</td>\n",
       "      <td>bottom</td>\n",
       "      <td>37.89394, -121.99418</td>\n",
       "      <td>...</td>\n",
       "      <td>False</td>\n",
       "      <td>False</td>\n",
       "      <td>False</td>\n",
       "      <td>False</td>\n",
       "      <td>False</td>\n",
       "      <td>False</td>\n",
       "      <td>False</td>\n",
       "      <td>False</td>\n",
       "      <td>False</td>\n",
       "      <td>False</td>\n",
       "    </tr>\n",
       "    <tr>\n",
       "      <th>2</th>\n",
       "      <td>Diablo Foothills to Summit Loop [CLOSED]</td>\n",
       "      <td>hard</td>\n",
       "      <td>30</td>\n",
       "      <td>16.0</td>\n",
       "      <td>3887</td>\n",
       "      <td>Hiking,Nature-trips,Bird-watching,Views,Wild-f...</td>\n",
       "      <td>7</td>\n",
       "      <td>Walnut Creek</td>\n",
       "      <td>bottom</td>\n",
       "      <td>37.89406, -121.99448</td>\n",
       "      <td>...</td>\n",
       "      <td>False</td>\n",
       "      <td>False</td>\n",
       "      <td>False</td>\n",
       "      <td>False</td>\n",
       "      <td>False</td>\n",
       "      <td>False</td>\n",
       "      <td>False</td>\n",
       "      <td>False</td>\n",
       "      <td>False</td>\n",
       "      <td>False</td>\n",
       "    </tr>\n",
       "    <tr>\n",
       "      <th>3</th>\n",
       "      <td>Macedo Ranch Loop [CLOSED]</td>\n",
       "      <td>hard</td>\n",
       "      <td>54</td>\n",
       "      <td>8.4</td>\n",
       "      <td>1801</td>\n",
       "      <td>Hiking,Nature-trips,Bird-watching,Running,View...</td>\n",
       "      <td>9</td>\n",
       "      <td>Walnut Creek</td>\n",
       "      <td>bottom</td>\n",
       "      <td>37.86249, -121.97916</td>\n",
       "      <td>...</td>\n",
       "      <td>False</td>\n",
       "      <td>False</td>\n",
       "      <td>False</td>\n",
       "      <td>False</td>\n",
       "      <td>False</td>\n",
       "      <td>False</td>\n",
       "      <td>True</td>\n",
       "      <td>False</td>\n",
       "      <td>False</td>\n",
       "      <td>False</td>\n",
       "    </tr>\n",
       "    <tr>\n",
       "      <th>4</th>\n",
       "      <td>Little Pine Creek, Burma, Falcon Road Loop [CL...</td>\n",
       "      <td>moderate</td>\n",
       "      <td>13</td>\n",
       "      <td>3.5</td>\n",
       "      <td>744</td>\n",
       "      <td>Hiking,Nature-trips,Bird-watching,Views,Wild-f...</td>\n",
       "      <td>6</td>\n",
       "      <td>Walnut Creek</td>\n",
       "      <td>bottom</td>\n",
       "      <td>37.88513, -121.9777</td>\n",
       "      <td>...</td>\n",
       "      <td>False</td>\n",
       "      <td>False</td>\n",
       "      <td>False</td>\n",
       "      <td>False</td>\n",
       "      <td>False</td>\n",
       "      <td>False</td>\n",
       "      <td>False</td>\n",
       "      <td>False</td>\n",
       "      <td>False</td>\n",
       "      <td>False</td>\n",
       "    </tr>\n",
       "  </tbody>\n",
       "</table>\n",
       "<p>115 rows × 51 columns</p>\n",
       "</div>"
      ],
      "text/plain": [
       "                                                 name difficulty completion  \\\n",
       "0                 Seaview and Big Springs Trails Loop   moderate       2447   \n",
       "1   Panoramic Hill, Chaparral Peak and Strawberry ...       hard       1558   \n",
       "2      Wildcat Gorge, Meadows Canyon and Curran Trail   moderate       1583   \n",
       "3                        Strawberry Canyon Fire Trail   moderate       1161   \n",
       "4      Upper and Lower Big Springs and Seaview Trails   moderate       1397   \n",
       "..                                                ...        ...        ...   \n",
       "0   Mount Diablo via Wall Point Road and Summit Tr...       hard         82   \n",
       "1         Diablo Foothills Crests and Creeks [CLOSED]   moderate         22   \n",
       "2            Diablo Foothills to Summit Loop [CLOSED]       hard         30   \n",
       "3                          Macedo Ranch Loop [CLOSED]       hard         54   \n",
       "4   Little Pine Creek, Burma, Falcon Road Loop [CL...   moderate         13   \n",
       "\n",
       "    length  elevation_gain                                               tags  \\\n",
       "0      4.3             984  Dog-friendly,Kid-friendly,Hiking,Horseback-rid...   \n",
       "1      6.2            1515  Dog-friendly,Hiking,Nature-trips,Bird-watching...   \n",
       "2      3.3             498  Dog-friendly,Kid-friendly,Hiking,Horseback-rid...   \n",
       "3      7.4             777  Dog-friendly,Kid-friendly,Hiking,Walking,Runni...   \n",
       "4      2.9             652  Dogs-on-leash,Kid-friendly,Hiking,Mountain-bik...   \n",
       "..     ...             ...                                                ...   \n",
       "0     13.8            3490                        Hiking,Views,Closed,No-dogs   \n",
       "1     13.0            2440  Hiking,Nature-trips,Bird-watching,Views,Wild-f...   \n",
       "2     16.0            3887  Hiking,Nature-trips,Bird-watching,Views,Wild-f...   \n",
       "3      8.4            1801  Hiking,Nature-trips,Bird-watching,Running,View...   \n",
       "4      3.5             744  Hiking,Nature-trips,Bird-watching,Views,Wild-f...   \n",
       "\n",
       "    NumberTags          city rankCat              location  ...  \\\n",
       "0           12      Berkeley     top   37.9006, -122.24968  ...   \n",
       "1           10      Berkeley     top   37.8627, -122.24408  ...   \n",
       "2           12      Berkeley     top  37.89572, -122.25213  ...   \n",
       "3            7      Berkeley     top  37.87251, -122.24178  ...   \n",
       "4            5      Berkeley     top  37.89035, -122.23651  ...   \n",
       "..         ...           ...     ...                   ...  ...   \n",
       "0            4  Walnut Creek  bottom  37.86249, -121.97916  ...   \n",
       "1            7  Walnut Creek  bottom  37.89394, -121.99418  ...   \n",
       "2            7  Walnut Creek  bottom  37.89406, -121.99448  ...   \n",
       "3            9  Walnut Creek  bottom  37.86249, -121.97916  ...   \n",
       "4            6  Walnut Creek  bottom   37.88513, -121.9777  ...   \n",
       "\n",
       "    Paddle-sports  Road-biking  Rock-climbing  Scenic-driving  Snowshoeing  \\\n",
       "0           False        False          False           False        False   \n",
       "1           False        False          False           False        False   \n",
       "2           False        False          False           False        False   \n",
       "3           False        False          False           False        False   \n",
       "4           False        False          False           False        False   \n",
       "..            ...          ...            ...             ...          ...   \n",
       "0           False        False          False           False        False   \n",
       "1           False        False          False           False        False   \n",
       "2           False        False          False           False        False   \n",
       "3           False        False          False           False        False   \n",
       "4           False        False          False           False        False   \n",
       "\n",
       "    Skiing  Running  X-Country-skiing  Walking  Via-ferrata  \n",
       "0    False     True             False     True        False  \n",
       "1    False     True             False    False        False  \n",
       "2    False     True             False    False        False  \n",
       "3    False     True             False     True        False  \n",
       "4    False     True             False    False        False  \n",
       "..     ...      ...               ...      ...          ...  \n",
       "0    False    False             False    False        False  \n",
       "1    False    False             False    False        False  \n",
       "2    False    False             False    False        False  \n",
       "3    False     True             False    False        False  \n",
       "4    False    False             False    False        False  \n",
       "\n",
       "[115 rows x 51 columns]"
      ]
     },
     "execution_count": 93,
     "metadata": {},
     "output_type": "execute_result"
    }
   ],
   "source": [
    "df"
   ]
  },
  {
   "cell_type": "markdown",
   "metadata": {},
   "source": [
    "## Scraping tags from alltrails"
   ]
  },
  {
   "cell_type": "markdown",
   "metadata": {},
   "source": [
    "Tags are characteristics that can be applied to a hiking trail"
   ]
  },
  {
   "cell_type": "code",
   "execution_count": 4,
   "metadata": {},
   "outputs": [],
   "source": [
    "browser.get(\"https://www.alltrails.com/explore/us/california/san-jose\")"
   ]
  },
  {
   "cell_type": "code",
   "execution_count": 5,
   "metadata": {},
   "outputs": [],
   "source": [
    "# get all activity-related tags\n",
    "activity_div = browser.find_elements_by_xpath(\"//*[@id='spring-popper']/div/div/div[2]/div[2]/span/div/div\")\n",
    "activity_div_children = activity_div[0].find_elements_by_xpath(\".//*\")\n",
    "activity_tags = list(map(lambda tag: tag.text.replace(' ', '-'), activity_div_children))"
   ]
  },
  {
   "cell_type": "code",
   "execution_count": 6,
   "metadata": {},
   "outputs": [],
   "source": [
    "# get all attraction-related tags\n",
    "attraction_div = browser.find_elements_by_xpath(\"//*[@id='spring-popper']/div/div/div[3]/div[2]/span/div/div\")\n",
    "attraction_div_children = attraction_div[0].find_elements_by_xpath(\".//*\")\n",
    "attraction_tags = list(map(lambda tag: tag.text.replace(' ', '-'), attraction_div_children))"
   ]
  },
  {
   "cell_type": "code",
   "execution_count": 7,
   "metadata": {},
   "outputs": [],
   "source": [
    "# get all suitability-related tags\n",
    "suitability_div = browser.find_elements_by_xpath(\"//*[@id='spring-popper']/div/div/div[4]/div[2]/span/div/div\")\n",
    "suitability_div_children = suitability_div[0].find_elements_by_xpath(\".//*\")\n",
    "suitability_tags = list(map(lambda tag: tag.text.replace(' ', '-'), suitability_div_children))"
   ]
  },
  {
   "cell_type": "code",
   "execution_count": 8,
   "metadata": {},
   "outputs": [
    {
     "data": {
      "text/plain": [
       "['Backpacking',\n",
       " 'Bike-touring',\n",
       " 'Bird-watching',\n",
       " 'Camping',\n",
       " 'Fishing',\n",
       " 'Hiking',\n",
       " 'Horseback-riding',\n",
       " 'Mountain-biking',\n",
       " 'Nature-trips',\n",
       " 'OHV/Off-road-driving',\n",
       " 'Paddle-sports',\n",
       " 'Road-biking',\n",
       " 'Rock-climbing',\n",
       " 'Scenic-driving',\n",
       " 'Snowshoeing',\n",
       " 'Skiing',\n",
       " 'Running',\n",
       " 'X-Country-skiing',\n",
       " 'Walking',\n",
       " 'Via-ferrata']"
      ]
     },
     "execution_count": 8,
     "metadata": {},
     "output_type": "execute_result"
    }
   ],
   "source": [
    "activity_tags"
   ]
  },
  {
   "cell_type": "code",
   "execution_count": 9,
   "metadata": {},
   "outputs": [
    {
     "data": {
      "text/plain": [
       "['Beach',\n",
       " 'Cave',\n",
       " 'City-walk',\n",
       " 'Event',\n",
       " 'Forest',\n",
       " 'Historic-site',\n",
       " 'Hot-springs',\n",
       " 'Lake',\n",
       " 'Pub-walk',\n",
       " 'Rails-trails',\n",
       " 'River',\n",
       " 'Views',\n",
       " 'Waterfall',\n",
       " 'Wildflowers',\n",
       " 'Wildlife']"
      ]
     },
     "execution_count": 9,
     "metadata": {},
     "output_type": "execute_result"
    }
   ],
   "source": [
    "attraction_tags"
   ]
  },
  {
   "cell_type": "code",
   "execution_count": 10,
   "metadata": {},
   "outputs": [
    {
     "data": {
      "text/plain": [
       "['Dog-friendly',\n",
       " 'Paved',\n",
       " 'Kid-friendly',\n",
       " 'Partially-paved',\n",
       " 'Wheelchair-friendly',\n",
       " 'Stroller-friendly']"
      ]
     },
     "execution_count": 10,
     "metadata": {},
     "output_type": "execute_result"
    }
   ],
   "source": [
    "suitability_tags"
   ]
  }
 ],
 "metadata": {
  "kernelspec": {
   "display_name": "Python 3.7.4 64-bit ('anaconda3': conda)",
   "language": "python",
   "name": "python37464bitanaconda3conda70b74fb637994f34a49ed706b6ded5c3"
  },
  "language_info": {
   "codemirror_mode": {
    "name": "ipython",
    "version": 3
   },
   "file_extension": ".py",
   "mimetype": "text/x-python",
   "name": "python",
   "nbconvert_exporter": "python",
   "pygments_lexer": "ipython3",
   "version": "3.7.4"
  }
 },
 "nbformat": 4,
 "nbformat_minor": 2
}
